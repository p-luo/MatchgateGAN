{
 "cells": [
  {
   "cell_type": "code",
   "execution_count": 1,
   "metadata": {},
   "outputs": [
    {
     "name": "stderr",
     "output_type": "stream",
     "text": [
      "\u001b[32m\u001b[1m  Activating\u001b[22m\u001b[39m project at `~/Desktop/Harvard/2.5/PRISE/Project/MatchgateGAN`\n"
     ]
    },
    {
     "name": "stderr",
     "output_type": "stream",
     "text": [
      "\u001b[32m\u001b[1m   Resolving\u001b[22m\u001b[39m package versions...\n"
     ]
    },
    {
     "name": "stderr",
     "output_type": "stream",
     "text": [
      "\u001b[32m\u001b[1m    Updating\u001b[22m\u001b[39m `~/Desktop/Harvard/2.5/PRISE/Project/MatchgateGAN/Project.toml`\n",
      "  \u001b[90m[eb30cadb] \u001b[39m\u001b[92m+ MLDatasets v0.7.11\u001b[39m\n",
      "\u001b[32m\u001b[1m    Updating\u001b[22m\u001b[39m `~/Desktop/Harvard/2.5/PRISE/Project/MatchgateGAN/Manifest.toml`\n"
     ]
    },
    {
     "name": "stderr",
     "output_type": "stream",
     "text": [
      "  \u001b[90m[621f4979] \u001b[39m\u001b[92m+ AbstractFFTs v1.5.0\u001b[39m\n",
      "  \u001b[90m[dce04be8] \u001b[39m\u001b[92m+ ArgCheck v2.3.0\u001b[39m\n",
      "  \u001b[90m[a9b6321e] \u001b[39m\u001b[92m+ Atomix v0.1.0\u001b[39m\n",
      "  \u001b[90m[ab4f0b2a] \u001b[39m\u001b[92m+ BFloat16s v0.4.2\u001b[39m\n",
      "  \u001b[90m[198e06fe] \u001b[39m\u001b[92m+ BangBang v0.3.39\u001b[39m\n",
      "  \u001b[90m[9718e550] \u001b[39m\u001b[92m+ Baselet v0.1.1\u001b[39m\n",
      "  \u001b[90m[d1d4a3ce] \u001b[39m\u001b[92m+ BitFlags v0.1.7\u001b[39m\n",
      "  \u001b[90m[e1450e63] \u001b[39m\u001b[92m+ BufferedStreams v1.2.0\u001b[39m\n",
      "  \u001b[90m[fa961155] \u001b[39m\u001b[92m+ CEnum v0.4.2\u001b[39m\n",
      "  \u001b[90m[336ed68f] \u001b[39m\u001b[92m+ CSV v0.10.11\u001b[39m\n",
      "  \u001b[90m[46823bd8] \u001b[39m\u001b[92m+ Chemfiles v0.10.40\u001b[39m\n",
      "  \u001b[90m[944b1d66] \u001b[39m\u001b[92m+ CodecZlib v0.7.2\u001b[39m\n",
      "  \u001b[90m[35d6a980] \u001b[39m\u001b[92m+ ColorSchemes v3.22.0\u001b[39m\n",
      "  \u001b[90m[3da002f7] \u001b[39m\u001b[92m+ ColorTypes v0.11.4\u001b[39m\n",
      "  \u001b[90m[c3611d14] \u001b[39m\u001b[92m+ ColorVectorSpace v0.10.0\u001b[39m\n",
      "  \u001b[90m[5ae59095] \u001b[39m\u001b[92m+ Colors v0.12.10\u001b[39m\n",
      "  \u001b[90m[a33af91c] \u001b[39m\u001b[92m+ CompositionsBase v0.1.2\u001b[39m\n",
      "  \u001b[90m[f0e56b4a] \u001b[39m\u001b[92m+ ConcurrentUtilities v2.2.1\u001b[39m\n",
      "  \u001b[90m[187b0558] \u001b[39m\u001b[92m+ ConstructionBase v1.5.3\u001b[39m\n",
      "  \u001b[90m[6add18c4] \u001b[39m\u001b[92m+ ContextVariablesX v0.1.3\u001b[39m\n",
      "  \u001b[90m[a8cc5b0e] \u001b[39m\u001b[92m+ Crayons v4.1.1\u001b[39m\n",
      "  \u001b[90m[124859b0] \u001b[39m\u001b[92m+ DataDeps v0.7.11\u001b[39m\n",
      "  \u001b[90m[a93c6f00] \u001b[39m\u001b[92m+ DataFrames v1.6.1\u001b[39m\n",
      "  \u001b[90m[e2d170a0] \u001b[39m\u001b[92m+ DataValueInterfaces v1.0.0\u001b[39m\n",
      "  \u001b[90m[244e2a9f] \u001b[39m\u001b[92m+ DefineSingletons v0.1.2\u001b[39m\n",
      "  \u001b[90m[8bb1440f] \u001b[39m\u001b[92m+ DelimitedFiles v1.9.1\u001b[39m\n",
      "  \u001b[90m[460bff9d] \u001b[39m\u001b[92m+ ExceptionUnwrapping v0.1.9\u001b[39m\n",
      "  \u001b[90m[cc61a311] \u001b[39m\u001b[92m+ FLoops v0.2.1\u001b[39m\n",
      "  \u001b[90m[b9860ae5] \u001b[39m\u001b[92m+ FLoopsBase v0.1.1\u001b[39m\n",
      "  \u001b[90m[5789e2e9] \u001b[39m\u001b[92m+ FileIO v1.16.1\u001b[39m\n",
      "  \u001b[90m[48062228] \u001b[39m\u001b[92m+ FilePathsBase v0.9.20\u001b[39m\n",
      "  \u001b[90m[53c48c17] \u001b[39m\u001b[92m+ FixedPointNumbers v0.8.4\u001b[39m\n",
      "  \u001b[90m[92fee26a] \u001b[39m\u001b[92m+ GZip v0.5.1\u001b[39m"
     ]
    },
    {
     "name": "stderr",
     "output_type": "stream",
     "text": [
      "\n",
      "  \u001b[90m[c27321d9] \u001b[39m\u001b[92m+ Glob v1.3.1\u001b[39m\n",
      "  \u001b[90m[f67ccb44] \u001b[39m\u001b[92m+ HDF5 v0.16.15\u001b[39m\n",
      "  \u001b[90m[cd3eb016] \u001b[39m\u001b[92m+ HTTP v1.9.14\u001b[39m\n",
      "  \u001b[90m[c817782e] \u001b[39m\u001b[92m+ ImageBase v0.1.7\u001b[39m\n",
      "  \u001b[90m[a09fc81d] \u001b[39m\u001b[92m+ ImageCore v0.10.1\u001b[39m\n",
      "  \u001b[90m[4e3cecfd] \u001b[39m\u001b[92m+ ImageShow v0.3.8\u001b[39m\n",
      "  \u001b[90m[22cec73e] \u001b[39m\u001b[92m+ InitialValues v0.3.1\u001b[39m\n",
      "  \u001b[90m[842dd82b] \u001b[39m\u001b[92m+ InlineStrings v1.4.0\u001b[39m\n",
      "  \u001b[90m[7d512f48] \u001b[39m\u001b[92m+ InternedStrings v0.7.0\u001b[39m\n",
      "  \u001b[90m[41ab1584] \u001b[39m\u001b[92m+ InvertedIndices v1.3.0\u001b[39m\n",
      "  \u001b[90m[82899510] \u001b[39m\u001b[92m+ IteratorInterfaceExtensions v1.0.0\u001b[39m\n",
      "  \u001b[90m[033835bb] \u001b[39m\u001b[92m+ JLD2 v0.4.33\u001b[39m\n",
      "  \u001b[90m[692b3bcd] \u001b[39m\u001b[92m+ JLLWrappers v1.4.1\u001b[39m\n",
      "  \u001b[90m[0f8b85d8] \u001b[39m\u001b[92m+ JSON3 v1.13.2\u001b[39m\n",
      "  \u001b[90m[b14d175d] \u001b[39m\u001b[92m+ JuliaVariables v0.2.4\u001b[39m\n",
      "  \u001b[90m[63c18a36] \u001b[39m\u001b[92m+ KernelAbstractions v0.9.8\u001b[39m\n",
      "  \u001b[90m[929cbde3] \u001b[39m\u001b[92m+ LLVM v6.1.0\u001b[39m\n",
      "  \u001b[90m[b964fa9f] \u001b[39m\u001b[92m+ LaTeXStrings v1.3.0\u001b[39m\n",
      "  \u001b[90m[8cdb02fc] \u001b[39m\u001b[92m+ LazyModules v0.3.1\u001b[39m\n",
      "  \u001b[90m[e6f89c97] \u001b[39m\u001b[92m+ LoggingExtras v1.0.0\u001b[39m\n",
      "  \u001b[90m[23992714] \u001b[39m\u001b[92m+ MAT v0.10.5\u001b[39m\n",
      "  \u001b[90m[eb30cadb] \u001b[39m\u001b[92m+ MLDatasets v0.7.11\u001b[39m\n",
      "  \u001b[90m[f1d291b0] \u001b[39m\u001b[92m+ MLUtils v0.4.3\u001b[39m\n",
      "  \u001b[90m[3da0fdf6] \u001b[39m\u001b[92m+ MPIPreferences v0.1.9\u001b[39m\n",
      "  \u001b[90m[dbb5928d] \u001b[39m\u001b[92m+ MappedArrays v0.4.2\u001b[39m\n",
      "  \u001b[90m[739be429] \u001b[39m\u001b[92m+ MbedTLS v1.1.7\u001b[39m\n",
      "  \u001b[90m[128add7d] \u001b[39m\u001b[92m+ MicroCollections v0.1.4\u001b[39m\n",
      "  \u001b[90m[e94cdb99] \u001b[39m\u001b[92m+ MosaicViews v0.3.4\u001b[39m\n",
      "  \u001b[90m[872c559c] \u001b[39m\u001b[92m+ NNlib v0.9.4\u001b[39m\n",
      "  \u001b[90m[15e1cf62] \u001b[39m\u001b[92m+ NPZ v0.4.3\u001b[39m\n",
      "  \u001b[90m[71a1bf82] \u001b[39m\u001b[92m+ NameResolution v0.1.5\u001b[39m\n",
      "  \u001b[90m[6fe1bfb0] \u001b[39m\u001b[92m+ OffsetArrays v1.12.10\u001b[39m\n",
      "  \u001b[90m[4d8831e6] \u001b[39m\u001b[92m+ OpenSSL v1.4.1\u001b[39m\n",
      "  \u001b[90m[5432bcbf] \u001b[39m\u001b[92m+ PaddedViews v0.5.12\u001b[39m\n",
      "  \u001b[90m[69de0a69] \u001b[39m\u001b[92m+ Parsers v2.7.2\u001b[39m\n",
      "  \u001b[90m[fbb45041] \u001b[39m\u001b[92m+ Pickle v0.3.3\u001b[39m\n",
      "  \u001b[90m[2dfb63ee] \u001b[39m\u001b[92m+ PooledArrays v1.4.2\u001b[39m\n",
      "  \u001b[90m[aea7be01] \u001b[39m\u001b[92m+ PrecompileTools v1.1.2\u001b[39m\n",
      "  \u001b[90m[8162dcfd] \u001b[39m\u001b[92m+ PrettyPrint v0.2.0\u001b[39m\n",
      "  \u001b[90m[08abe8d2] \u001b[39m\u001b[92m+ PrettyTables v2.2.7\u001b[39m\n",
      "  \u001b[90m[91c51154] \u001b[39m\u001b[92m+ SentinelArrays v1.4.0\u001b[39m\n",
      "  \u001b[90m[efcf1570] \u001b[39m\u001b[92m+ Setfield v1.1.1\u001b[39m\n",
      "  \u001b[90m[605ecd9f] \u001b[39m\u001b[92m+ ShowCases v0.1.0\u001b[39m\n",
      "  \u001b[90m[777ac1f9] \u001b[39m\u001b[92m+ SimpleBufferStream v1.1.0\u001b[39m\n",
      "  \u001b[90m[699a6c99] \u001b[39m\u001b[92m+ SimpleTraits v0.9.4\u001b[39m\n",
      "  \u001b[90m[171d559e] \u001b[39m\u001b[92m+ SplittablesBase v0.1.15\u001b[39m\n",
      "  \u001b[90m[cae243ae] \u001b[39m\u001b[92m+ StackViews v0.1.1\u001b[39m\n",
      "\u001b[33m⌅\u001b[39m \u001b[90m[5e0ebb24] \u001b[39m\u001b[92m+ Strided v1.2.3\u001b[39m\n",
      "  \u001b[90m[69024149] \u001b[39m\u001b[92m+ StringEncodings v0.3.7\u001b[39m\n",
      "  \u001b[90m[892a3eda] \u001b[39m\u001b[92m+ StringManipulation v0.3.0\u001b[39m\n",
      "  \u001b[90m[856f2bd8] \u001b[39m\u001b[92m+ StructTypes v1.10.0\u001b[39m\n",
      "  \u001b[90m[3783bdb8] \u001b[39m\u001b[92m+ TableTraits v1.0.1\u001b[39m\n",
      "  \u001b[90m[bd369af6] \u001b[39m\u001b[92m+ Tables v1.10.1\u001b[39m\n",
      "  \u001b[90m[62fd8b95] \u001b[39m\u001b[92m+ TensorCore v0.1.1\u001b[39m\n",
      "  \u001b[90m[3bb67fe8] \u001b[39m\u001b[92m+ TranscodingStreams v0.9.13\u001b[39m\n",
      "  \u001b[90m[28d57a85] \u001b[39m\u001b[92m+ Transducers v0.4.78\u001b[39m\n",
      "  \u001b[90m[5c2747f8] \u001b[39m\u001b[92m+ URIs v1.4.2\u001b[39m\n",
      "  \u001b[90m[013be700] \u001b[39m\u001b[92m+ UnsafeAtomics v0.2.1\u001b[39m\n",
      "  \u001b[90m[d80eeb9a] \u001b[39m\u001b[92m+ UnsafeAtomicsLLVM v0.1.3\u001b[39m\n",
      "  \u001b[90m[ea10d353] \u001b[39m\u001b[92m+ WeakRefStrings v1.4.2\u001b[39m\n",
      "  \u001b[90m[76eceee3] \u001b[39m\u001b[92m+ WorkerUtilities v1.6.1\u001b[39m\n",
      "  \u001b[90m[a5390f91] \u001b[39m\u001b[92m+ ZipFile v0.10.1\u001b[39m\n",
      "  \u001b[90m[78a364fa] \u001b[39m\u001b[92m+ Chemfiles_jll v0.10.4+0\u001b[39m\n",
      "  \u001b[90m[0234f1f7] \u001b[39m\u001b[92m+ HDF5_jll v1.14.1+0\u001b[39m\n",
      "  \u001b[90m[dad2f222] \u001b[39m\u001b[92m+ LLVMExtra_jll v0.0.23+0\u001b[39m\n",
      "  \u001b[90m[1d63c593] \u001b[39m\u001b[92m+ LLVMOpenMP_jll v15.0.4+0\u001b[39m\n",
      "  \u001b[90m[94ce4f54] \u001b[39m\u001b[92m+ Libiconv_jll v1.16.1+2\u001b[39m\n",
      "  \u001b[90m[7cb0a576] \u001b[39m\u001b[92m+ MPICH_jll v4.1.2+0\u001b[39m\n",
      "  \u001b[90m[f1f71cc9] \u001b[39m\u001b[92m+ MPItrampoline_jll v5.3.1+0\u001b[39m\n",
      "  \u001b[90m[9237b28f] \u001b[39m\u001b[92m+ MicrosoftMPI_jll v10.1.3+4\u001b[39m\n",
      "  \u001b[90m[fe0851c0] \u001b[39m\u001b[92m+ OpenMPI_jll v4.1.5+0\u001b[39m\n",
      "  \u001b[90m[458c3c95] \u001b[39m\u001b[92m+ OpenSSL_jll v3.0.10+0\u001b[39m\n",
      "  \u001b[90m[477f73a3] \u001b[39m\u001b[92m+ libaec_jll v1.0.6+1\u001b[39m\n",
      "  \u001b[90m[9fa8497b] \u001b[39m\u001b[92m+ Future\u001b[39m\n",
      "  \u001b[90m[4af54fe1] \u001b[39m\u001b[92m+ LazyArtifacts\u001b[39m\n",
      "  \u001b[90m[a63ad114] \u001b[39m\u001b[92m+ Mmap\u001b[39m\n",
      "\u001b[36m\u001b[1m        Info\u001b[22m\u001b[39m Packages marked with \u001b[33m⌅\u001b[39m have new versions available but compatibility constraints restrict them from upgrading. To see why use `status --outdated -m`\n"
     ]
    },
    {
     "name": "stderr",
     "output_type": "stream",
     "text": [
      "\u001b[32m\u001b[1mPrecompiling\u001b[22m\u001b[39m project...\n"
     ]
    },
    {
     "name": "stderr",
     "output_type": "stream",
     "text": [
      "\u001b[32m  ✓ \u001b[39m\u001b[90mHTTP\u001b[39m\n"
     ]
    },
    {
     "name": "stderr",
     "output_type": "stream",
     "text": [
      "\u001b[32m  ✓ \u001b[39m\u001b[90mDataDeps\u001b[39m\n"
     ]
    },
    {
     "name": "stderr",
     "output_type": "stream",
     "text": [
      "\u001b[32m  ✓ \u001b[39m\u001b[90mMLUtils\u001b[39m\n"
     ]
    },
    {
     "name": "stderr",
     "output_type": "stream",
     "text": [
      "\u001b[32m  ✓ \u001b[39m\u001b[90mHDF5\u001b[39m\n"
     ]
    },
    {
     "name": "stderr",
     "output_type": "stream",
     "text": [
      "\u001b[32m  ✓ \u001b[39m\u001b[90mMAT\u001b[39m\n"
     ]
    },
    {
     "name": "stderr",
     "output_type": "stream",
     "text": [
      "\u001b[32m  ✓ \u001b[39mMLDatasets\n",
      "  6 dependencies successfully precompiled in 19 seconds. 155 already precompiled.\n",
      "\u001b[32m\u001b[1m   Resolving\u001b[22m\u001b[39m package versions...\n"
     ]
    },
    {
     "name": "stderr",
     "output_type": "stream",
     "text": [
      "\u001b[32m\u001b[1m   Installed\u001b[22m\u001b[39m NaNMath ───────── v0.3.7\n",
      "\u001b[32m\u001b[1m   Installed\u001b[22m\u001b[39m GeometryBasics ── v0.3.13\n",
      "\u001b[32m\u001b[1m   Installed\u001b[22m\u001b[39m RecipesPipeline ─ v0.3.7\n",
      "\u001b[32m\u001b[1m   Installed\u001b[22m\u001b[39m PlotThemes ────── v2.0.1\n"
     ]
    },
    {
     "name": "stderr",
     "output_type": "stream",
     "text": [
      "\u001b[32m\u001b[1m   Installed\u001b[22m\u001b[39m Plots ─────────── v1.15.2\n",
      "\u001b[32m\u001b[1m   Installed\u001b[22m\u001b[39m Latexify ──────── v0.15.21\n"
     ]
    },
    {
     "name": "stderr",
     "output_type": "stream",
     "text": [
      "\u001b[32m\u001b[1m   Installed\u001b[22m\u001b[39m FFMPEG_jll ────── v4.4.4+1\n"
     ]
    },
    {
     "name": "stderr",
     "output_type": "stream",
     "text": [
      "\u001b[32m\u001b[1m   Installed\u001b[22m\u001b[39m GR ────────────── v0.49.1\n"
     ]
    },
    {
     "name": "stderr",
     "output_type": "stream",
     "text": [
      "\u001b[32m\u001b[1m    Updating\u001b[22m\u001b[39m `~/Desktop/Harvard/2.5/PRISE/Project/MatchgateGAN/Project.toml`\n",
      "\u001b[32m⌃\u001b[39m \u001b[90m[91a5bcdd] \u001b[39m\u001b[92m+ Plots v1.15.2\u001b[39m\n",
      "\u001b[32m\u001b[1m    Updating\u001b[22m\u001b[39m `~/Desktop/Harvard/2.5/PRISE/Project/MatchgateGAN/Manifest.toml`\n"
     ]
    },
    {
     "name": "stderr",
     "output_type": "stream",
     "text": [
      "\u001b[33m⌅\u001b[39m \u001b[90m[d38c429a] \u001b[39m\u001b[92m+ Contour v0.5.7\u001b[39m\n",
      "  \u001b[90m[c87230d0] \u001b[39m\u001b[92m+ FFMPEG v0.4.1\u001b[39m\n",
      "  \u001b[90m[59287772] \u001b[39m\u001b[92m+ Formatting v0.4.2\u001b[39m\n",
      "\u001b[33m⌅\u001b[39m \u001b[90m[28b8d3ca] \u001b[39m\u001b[92m+ GR v0.49.1\u001b[39m\n",
      "\u001b[33m⌅\u001b[39m \u001b[90m[5c1252a2] \u001b[39m\u001b[92m+ GeometryBasics v0.3.13\u001b[39m\n",
      "  \u001b[90m[42e2da0e] \u001b[39m\u001b[92m+ Grisu v1.0.2\u001b[39m\n",
      "  \u001b[90m[c8e1da08] \u001b[39m\u001b[92m+ IterTools v1.8.0\u001b[39m\n",
      "  \u001b[90m[682c06a0] \u001b[39m\u001b[92m+ JSON v0.21.4\u001b[39m\n",
      "\u001b[33m⌅\u001b[39m \u001b[90m[23fbe1c1] \u001b[39m\u001b[92m+ Latexify v0.15.21\u001b[39m\n",
      "  \u001b[90m[442fdcdd] \u001b[39m\u001b[92m+ Measures v0.3.2\u001b[39m\n",
      "\u001b[33m⌅\u001b[39m \u001b[90m[77ba4419] \u001b[39m\u001b[92m+ NaNMath v0.3.7\u001b[39m\n",
      "\u001b[33m⌅\u001b[39m \u001b[90m[ccf2f8ad] \u001b[39m\u001b[92m+ PlotThemes v2.0.1\u001b[39m\n",
      "  \u001b[90m[995b91a9] \u001b[39m\u001b[92m+ PlotUtils v1.3.5\u001b[39m\n",
      "\u001b[32m⌃\u001b[39m \u001b[90m[91a5bcdd] \u001b[39m\u001b[92m+ Plots v1.15.2\u001b[39m\n",
      "  \u001b[90m[3cdcf5f2] \u001b[39m\u001b[92m+ RecipesBase v1.3.4\u001b[39m\n",
      "\u001b[33m⌅\u001b[39m \u001b[90m[01d81517] \u001b[39m\u001b[92m+ RecipesPipeline v0.3.7\u001b[39m\n",
      "  \u001b[90m[6c6a2e73] \u001b[39m\u001b[92m+ Scratch v1.2.0\u001b[39m\n",
      "  \u001b[90m[992d4aef] \u001b[39m\u001b[92m+ Showoff v1.0.3\u001b[39m\n",
      "  \u001b[90m[09ab397b] \u001b[39m\u001b[92m+ StructArrays v0.6.15\u001b[39m\n",
      "  \u001b[90m[6e34b625] \u001b[39m\u001b[92m+ Bzip2_jll v1.0.8+0\u001b[39m\n",
      "  \u001b[90m[83423d85] \u001b[39m\u001b[92m+ Cairo_jll v1.16.1+1\u001b[39m\n",
      "  \u001b[90m[5ae413db] \u001b[39m\u001b[92m+ EarCut_jll v2.2.4+0\u001b[39m\n",
      "  \u001b[90m[2e619515] \u001b[39m\u001b[92m+ Expat_jll v2.5.0+0\u001b[39m\n",
      "  \u001b[90m[b22a6f82] \u001b[39m\u001b[92m+ FFMPEG_jll v4.4.4+1\u001b[39m\n",
      "  \u001b[90m[a3f928ae] \u001b[39m\u001b[92m+ Fontconfig_jll v2.13.93+0\u001b[39m\n",
      "  \u001b[90m[d7e528f0] \u001b[39m\u001b[92m+ FreeType2_jll v2.13.1+0\u001b[39m\n",
      "  \u001b[90m[559328eb] \u001b[39m\u001b[92m+ FriBidi_jll v1.0.10+0\u001b[39m\n",
      "  \u001b[90m[78b55507] \u001b[39m\u001b[92m+ Gettext_jll v0.21.0+0\u001b[39m\n",
      "  \u001b[90m[7746bdde] \u001b[39m\u001b[92m+ Glib_jll v2.74.0+2\u001b[39m\n",
      "  \u001b[90m[3b182d85] \u001b[39m\u001b[92m+ Graphite2_jll v1.3.14+0\u001b[39m\n",
      "  \u001b[90m[2e76f6c2] \u001b[39m\u001b[92m+ HarfBuzz_jll v2.8.1+1\u001b[39m\n",
      "  \u001b[90m[c1c5ebd0] \u001b[39m\u001b[92m+ LAME_jll v3.100.1+0\u001b[39m\n",
      "  \u001b[90m[dd4b983a] \u001b[39m\u001b[92m+ LZO_jll v2.10.1+0\u001b[39m\n",
      "\u001b[33m⌅\u001b[39m \u001b[90m[e9f186c6] \u001b[39m\u001b[92m+ Libffi_jll v3.2.2+1\u001b[39m\n",
      "  \u001b[90m[d4300ac3] \u001b[39m\u001b[92m+ Libgcrypt_jll v1.8.7+0\u001b[39m\n",
      "  \u001b[90m[7add5ba3] \u001b[39m\u001b[92m+ Libgpg_error_jll v1.42.0+0\u001b[39m\n",
      "  \u001b[90m[4b2f31a3] \u001b[39m\u001b[92m+ Libmount_jll v2.35.0+0\u001b[39m\n",
      "  \u001b[90m[38a345b3] \u001b[39m\u001b[92m+ Libuuid_jll v2.36.0+0\u001b[39m\n",
      "  \u001b[90m[e7412a2a] \u001b[39m\u001b[92m+ Ogg_jll v1.3.5+1\u001b[39m\n",
      "  \u001b[90m[91d4177d] \u001b[39m\u001b[92m+ Opus_jll v1.3.2+0\u001b[39m\n",
      "  \u001b[90m[30392449] \u001b[39m\u001b[92m+ Pixman_jll v0.42.2+0\u001b[39m\n",
      "  \u001b[90m[02c8fc9c] \u001b[39m\u001b[92m+ XML2_jll v2.10.3+0\u001b[39m\n",
      "  \u001b[90m[aed1982a] \u001b[39m\u001b[92m+ XSLT_jll v1.1.34+0\u001b[39m\n",
      "  \u001b[90m[4f6342f7] \u001b[39m\u001b[92m+ Xorg_libX11_jll v1.8.6+0\u001b[39m\n",
      "  \u001b[90m[0c0b7dd1] \u001b[39m\u001b[92m+ Xorg_libXau_jll v1.0.11+0\u001b[39m\n",
      "  \u001b[90m[a3789734] \u001b[39m\u001b[92m+ Xorg_libXdmcp_jll v1.1.4+0\u001b[39m\n",
      "  \u001b[90m[1082639a] \u001b[39m\u001b[92m+ Xorg_libXext_jll v1.3.4+4\u001b[39m\n",
      "  \u001b[90m[ea2f1a96] \u001b[39m\u001b[92m+ Xorg_libXrender_jll v0.9.10+4\u001b[39m\n",
      "  \u001b[90m[14d82f49] \u001b[39m\u001b[92m+ Xorg_libpthread_stubs_jll v0.1.1+0\u001b[39m\n",
      "  \u001b[90m[c7cfdc94] \u001b[39m\u001b[92m+ Xorg_libxcb_jll v1.15.0+0\u001b[39m\n",
      "  \u001b[90m[c5fb5394] \u001b[39m\u001b[92m+ Xorg_xtrans_jll v1.5.0+0\u001b[39m\n",
      "  \u001b[90m[a4ae2306] \u001b[39m\u001b[92m+ libaom_jll v3.4.0+0\u001b[39m\n",
      "  \u001b[90m[0ac62f75] \u001b[39m\u001b[92m+ libass_jll v0.15.1+0\u001b[39m\n",
      "  \u001b[90m[f638f0a6] \u001b[39m\u001b[92m+ libfdk_aac_jll v2.0.2+0\u001b[39m\n",
      "  \u001b[90m[b53b4c65] \u001b[39m\u001b[92m+ libpng_jll v1.6.38+0\u001b[39m\n",
      "  \u001b[90m[f27f6e37] \u001b[39m\u001b[92m+ libvorbis_jll v1.3.7+1\u001b[39m\n",
      "  \u001b[90m[1270edf5] \u001b[39m\u001b[92m+ x264_jll v2021.5.5+0\u001b[39m\n",
      "  \u001b[90m[dfaa095f] \u001b[39m\u001b[92m+ x265_jll v3.5.0+0\u001b[39m\n",
      "  \u001b[90m[efcefdf7] \u001b[39m\u001b[92m+ PCRE2_jll v10.42.0+0\u001b[39m\n",
      "\u001b[36m\u001b[1m        Info\u001b[22m\u001b[39m Packages marked with \u001b[32m⌃\u001b[39m and \u001b[33m⌅\u001b[39m have new versions available, but those with \u001b[33m⌅\u001b[39m are restricted by compatibility constraints from upgrading. To see why use `status --outdated -m`\n",
      "\u001b[32m\u001b[1m    Building\u001b[22m\u001b[39m GR → `~/.julia/scratchspaces/44cfe95a-1eb2-52ea-b672-e2afdf69b78f/1185d50c5c90ec7c0784af7f8d0d1a600750dc4d/build.log`\n"
     ]
    },
    {
     "name": "stderr",
     "output_type": "stream",
     "text": [
      "\u001b[32m\u001b[1mPrecompiling\u001b[22m\u001b[39m "
     ]
    },
    {
     "name": "stderr",
     "output_type": "stream",
     "text": [
      "project...\n"
     ]
    },
    {
     "name": "stderr",
     "output_type": "stream",
     "text": [
      "\u001b[32m  ✓ \u001b[39m\u001b[90mNaNMath\u001b[39m\n"
     ]
    },
    {
     "name": "stderr",
     "output_type": "stream",
     "text": [
      "\u001b[32m  ✓ \u001b[39m\u001b[90mContour\u001b[39m\n"
     ]
    },
    {
     "name": "stderr",
     "output_type": "stream",
     "text": [
      "\u001b[32m  ✓ \u001b[39m\u001b[90mFFMPEG_jll\u001b[39m\n"
     ]
    },
    {
     "name": "stderr",
     "output_type": "stream",
     "text": [
      "\u001b[32m  ✓ \u001b[39m\u001b[90mGR\u001b[39m\n"
     ]
    },
    {
     "name": "stderr",
     "output_type": "stream",
     "text": [
      "\u001b[32m  ✓ \u001b[39m\u001b[90mLatexify\u001b[39m\n"
     ]
    },
    {
     "name": "stderr",
     "output_type": "stream",
     "text": [
      "\u001b[32m  ✓ \u001b[39m\u001b[90mFFMPEG\u001b[39m\n"
     ]
    },
    {
     "name": "stderr",
     "output_type": "stream",
     "text": [
      "\u001b[32m  ✓ \u001b[39m\u001b[90mLatexify → DataFramesExt\u001b[39m\n"
     ]
    },
    {
     "name": "stderr",
     "output_type": "stream",
     "text": [
      "\u001b[32m  ✓ \u001b[39m\u001b[90mGeometryBasics\u001b[39m\n"
     ]
    },
    {
     "name": "stderr",
     "output_type": "stream",
     "text": [
      "\u001b[32m  ✓ \u001b[39m\u001b[90mPlotUtils\u001b[39m\n"
     ]
    },
    {
     "name": "stderr",
     "output_type": "stream",
     "text": [
      "\u001b[32m  ✓ \u001b[39m\u001b[90mPlotThemes\u001b[39m\n"
     ]
    },
    {
     "name": "stderr",
     "output_type": "stream",
     "text": [
      "\u001b[32m  ✓ \u001b[39m\u001b[90mRecipesPipeline\u001b[39m\n"
     ]
    },
    {
     "name": "stderr",
     "output_type": "stream",
     "text": [
      "\u001b[32m  ✓ \u001b[39mPlots\n",
      "  12 dependencies successfully precompiled in 59 seconds. 210 already precompiled.\n",
      "  \u001b[33m1\u001b[39m dependency had warnings during precompilation:\u001b[33m\n",
      "┌ \u001b[39mGeometryBasics [5c1252a2-5f33-56bf-86c9-59e7332b4326]\u001b[33m\n",
      "│  \u001b[39mWARNING: method definition for centered at /Users/pluo/.julia/packages/GeometryBasics/pjtu1/src/primitives/rectangles.jl:515 declares type variable N but does not use it.\u001b[33m\n",
      "│  \u001b[39mWARNING: method definition for volume at /Users/pluo/.julia/packages/GeometryBasics/pjtu1/src/meshes.jl:209 declares type variable FT but does not use it.\u001b[33m\n",
      "│  \u001b[39mWARNING: method definition for volume at /Users/pluo/.julia/packages/GeometryBasics/pjtu1/src/meshes.jl:209 declares type variable VT but does not use it.\u001b[33m\n",
      "│  \u001b[39mWARNING: method definition for volume at /Users/pluo/.julia/packages/GeometryBasics/pjtu1/src/meshes.jl:221 declares type variable FT but does not use it.\u001b[33m\n",
      "│  \u001b[39mWARNING: method definition for volume at /Users/pluo/.julia/packages/GeometryBasics/pjtu1/src/meshes.jl:221 declares type variable VT but does not use it.\u001b[33m\n",
      "└  \u001b[39m\n"
     ]
    },
    {
     "name": "stderr",
     "output_type": "stream",
     "text": [
      "\u001b[32m\u001b[1m   Resolving\u001b[22m\u001b[39m package versions...\n"
     ]
    },
    {
     "name": "stderr",
     "output_type": "stream",
     "text": [
      "\u001b[32m\u001b[1m    Updating\u001b[22m\u001b[39m `~/Desktop/Harvard/2.5/PRISE/Project/MatchgateGAN/Project.toml`\n",
      "  \u001b[90m[10745b16] \u001b[39m\u001b[92m+ Statistics v1.9.0\u001b[39m\n",
      "\u001b[32m\u001b[1m  No Changes\u001b[22m\u001b[39m to `~/Desktop/Harvard/2.5/PRISE/Project/MatchgateGAN/Manifest.toml`\n"
     ]
    },
    {
     "name": "stderr",
     "output_type": "stream",
     "text": [
      "\u001b[32m\u001b[1m   Resolving\u001b[22m\u001b[39m package versions...\n"
     ]
    },
    {
     "name": "stderr",
     "output_type": "stream",
     "text": [
      "\u001b[32m\u001b[1m    Updating\u001b[22m\u001b[39m `~/Desktop/Harvard/2.5/PRISE/Project/MatchgateGAN/Project.toml`\n"
     ]
    },
    {
     "name": "stderr",
     "output_type": "stream",
     "text": [
      "  \u001b[90m[31c24e10] \u001b[39m\u001b[92m+ Distributions v0.25.99\u001b[39m\n",
      "\u001b[32m\u001b[1m    Updating\u001b[22m\u001b[39m `~/Desktop/Harvard/2.5/PRISE/Project/MatchgateGAN/Manifest.toml`\n"
     ]
    },
    {
     "name": "stderr",
     "output_type": "stream",
     "text": [
      "  \u001b[90m[49dc2e85] \u001b[39m\u001b[92m+ Calculus v0.5.1\u001b[39m\n",
      "  \u001b[90m[31c24e10] \u001b[39m\u001b[92m+ Distributions v0.25.99\u001b[39m\n",
      "  \u001b[90m[fa6b7ba4] \u001b[39m\u001b[92m+ DualNumbers v0.6.8\u001b[39m\n",
      "  \u001b[90m[1a297f60] \u001b[39m\u001b[92m+ FillArrays v1.5.0\u001b[39m\n",
      "  \u001b[90m[34004b35] \u001b[39m\u001b[92m+ HypergeometricFunctions v0.3.23\u001b[39m\n",
      "  \u001b[90m[90014a1f] \u001b[39m\u001b[92m+ PDMats v0.11.17\u001b[39m\n",
      "  \u001b[90m[1fd47b50] \u001b[39m\u001b[92m+ QuadGK v2.8.2\u001b[39m\n",
      "  \u001b[90m[79098fc4] \u001b[39m\u001b[92m+ Rmath v0.7.1\u001b[39m\n",
      "  \u001b[90m[276daf66] \u001b[39m\u001b[92m+ SpecialFunctions v2.3.0\u001b[39m\n",
      "  \u001b[90m[4c63d2b9] \u001b[39m\u001b[92m+ StatsFuns v1.3.0\u001b[39m\n",
      "  \u001b[90m[efe28fd5] \u001b[39m\u001b[92m+ OpenSpecFun_jll v0.5.5+0\u001b[39m\n",
      "  \u001b[90m[f50d1b31] \u001b[39m\u001b[92m+ Rmath_jll v0.4.0+0\u001b[39m\n",
      "  \u001b[90m[05823500] \u001b[39m\u001b[92m+ OpenLibm_jll v0.8.1+0\u001b[39m\n"
     ]
    },
    {
     "name": "stderr",
     "output_type": "stream",
     "text": [
      "\u001b[32m\u001b[1mPrecompiling\u001b[22m\u001b[39m "
     ]
    },
    {
     "name": "stderr",
     "output_type": "stream",
     "text": [
      "project...\n"
     ]
    },
    {
     "name": "stderr",
     "output_type": "stream",
     "text": [
      "\u001b[32m  ✓ \u001b[39m\u001b[90mColorVectorSpace → SpecialFunctionsExt\u001b[39m\n"
     ]
    },
    {
     "name": "stderr",
     "output_type": "stream",
     "text": [
      "\u001b[32m  ✓ \u001b[39m\u001b[90mDualNumbers\u001b[39m\n"
     ]
    },
    {
     "name": "stderr",
     "output_type": "stream",
     "text": [
      "\u001b[32m  ✓ \u001b[39m\u001b[90mHypergeometricFunctions\u001b[39m\n"
     ]
    },
    {
     "name": "stderr",
     "output_type": "stream",
     "text": [
      "\u001b[32m  ✓ \u001b[39m\u001b[90mStatsFuns\u001b[39m\n"
     ]
    },
    {
     "name": "stderr",
     "output_type": "stream",
     "text": [
      "\u001b[32m  ✓ \u001b[39m\u001b[90mStatsFuns → StatsFunsChainRulesCoreExt\u001b[39m\n"
     ]
    },
    {
     "name": "stderr",
     "output_type": "stream",
     "text": [
      "\u001b[32m  ✓ \u001b[39m\u001b[90mColorSchemes\u001b[39m\n"
     ]
    },
    {
     "name": "stderr",
     "output_type": "stream",
     "text": [
      "\u001b[32m  ✓ \u001b[39mDistributions\n"
     ]
    },
    {
     "name": "stderr",
     "output_type": "stream",
     "text": [
      "\u001b[32m  ✓ \u001b[39m\u001b[90mDistributions → DistributionsChainRulesCoreExt\u001b[39m\n"
     ]
    },
    {
     "name": "stderr",
     "output_type": "stream",
     "text": [
      "\u001b[32m  ✓ \u001b[39m\u001b[90mPlotUtils\u001b[39m\n"
     ]
    },
    {
     "name": "stderr",
     "output_type": "stream",
     "text": [
      "\u001b[32m  ✓ \u001b[39m\u001b[90mPlotThemes\u001b[39m\n"
     ]
    },
    {
     "name": "stderr",
     "output_type": "stream",
     "text": [
      "\u001b[32m  ✓ \u001b[39m\u001b[90mRecipesPipeline\u001b[39m\n"
     ]
    },
    {
     "name": "stderr",
     "output_type": "stream",
     "text": [
      "\u001b[32m  ✓ \u001b[39m\u001b[90mImageCore\u001b[39m\n"
     ]
    },
    {
     "name": "stderr",
     "output_type": "stream",
     "text": [
      "\u001b[32m  ✓ \u001b[39m\u001b[90mImageBase\u001b[39m\n"
     ]
    },
    {
     "name": "stderr",
     "output_type": "stream",
     "text": [
      "\u001b[32m  ✓ \u001b[39m\u001b[90mImageShow\u001b[39m\n"
     ]
    },
    {
     "name": "stderr",
     "output_type": "stream",
     "text": [
      "\u001b[32m  ✓ \u001b[39mMLDatasets\n"
     ]
    },
    {
     "name": "stderr",
     "output_type": "stream",
     "text": [
      "\u001b[32m  ✓ \u001b[39mPlots\n",
      "  16 dependencies successfully precompiled in 77 seconds. 223 already precompiled.\n"
     ]
    },
    {
     "name": "stderr",
     "output_type": "stream",
     "text": [
      "\u001b[32m\u001b[1m   Resolving\u001b[22m\u001b[39m package versions...\n"
     ]
    },
    {
     "name": "stderr",
     "output_type": "stream",
     "text": [
      "\u001b[32m\u001b[1m    Updating\u001b[22m\u001b[39m `~/Desktop/Harvard/2.5/PRISE/Project/MatchgateGAN/Project.toml`\n",
      "  \u001b[90m[9a3f8284] \u001b[39m\u001b[92m+ Random\u001b[39m\n",
      "\u001b[32m\u001b[1m  No Changes\u001b[22m\u001b[39m to `~/Desktop/Harvard/2.5/PRISE/Project/MatchgateGAN/Manifest.toml`\n"
     ]
    },
    {
     "name": "stderr",
     "output_type": "stream",
     "text": [
      "\u001b[32m\u001b[1m   Resolving\u001b[22m\u001b[39m package versions...\n"
     ]
    },
    {
     "name": "stderr",
     "output_type": "stream",
     "text": [
      "\u001b[32m\u001b[1m   Installed\u001b[22m\u001b[39m Flux ─ v0.14.1\n"
     ]
    },
    {
     "name": "stderr",
     "output_type": "stream",
     "text": [
      "\u001b[32m\u001b[1m    Updating\u001b[22m\u001b[39m `~/Desktop/Harvard/2.5/PRISE/Project/MatchgateGAN/Project.toml`\n",
      "  \u001b[90m[587475ba] \u001b[39m\u001b[92m+ Flux v0.14.1\u001b[39m\n",
      "\u001b[32m\u001b[1m    Updating\u001b[22m\u001b[39m `~/Desktop/Harvard/2.5/PRISE/Project/MatchgateGAN/Manifest.toml`\n"
     ]
    },
    {
     "name": "stderr",
     "output_type": "stream",
     "text": [
      "  \u001b[90m[082447d4] \u001b[39m\u001b[92m+ ChainRules v1.53.0\u001b[39m\n",
      "  \u001b[90m[bbf7d656] \u001b[39m\u001b[92m+ CommonSubexpressions v0.3.0\u001b[39m\n",
      "  \u001b[90m[163ba53b] \u001b[39m\u001b[92m+ DiffResults v1.1.0\u001b[39m\n",
      "  \u001b[90m[b552c78f] \u001b[39m\u001b[92m+ DiffRules v1.15.1\u001b[39m\n",
      "  \u001b[90m[587475ba] \u001b[39m\u001b[92m+ Flux v0.14.1\u001b[39m\n",
      "  \u001b[90m[f6369f11] \u001b[39m\u001b[92m+ ForwardDiff v0.10.35\u001b[39m\n",
      "  \u001b[90m[d9f16b24] \u001b[39m\u001b[92m+ Functors v0.4.5\u001b[39m\n",
      "  \u001b[90m[0c68f7d7] \u001b[39m\u001b[92m+ GPUArrays v8.8.1\u001b[39m\n",
      "  \u001b[90m[7869d1d1] \u001b[39m\u001b[92m+ IRTools v0.4.10\u001b[39m\n",
      "  \u001b[90m[0b1bfda6] \u001b[39m\u001b[92m+ OneHotArrays v0.2.4\u001b[39m\n",
      "  \u001b[90m[3bd65402] \u001b[39m\u001b[92m+ Optimisers v0.2.19\u001b[39m\n",
      "  \u001b[90m[33c8b6b6] \u001b[39m\u001b[92m+ ProgressLogging v0.1.4\u001b[39m\n",
      "  \u001b[90m[c1ae055f] \u001b[39m\u001b[92m+ RealDot v0.1.0\u001b[39m\n",
      "  \u001b[90m[e88e6eb3] \u001b[39m\u001b[92m+ Zygote v0.6.62\u001b[39m\n",
      "  \u001b[90m[700de1a5] \u001b[39m\u001b[92m+ ZygoteRules v0.2.3\u001b[39m\n"
     ]
    },
    {
     "name": "stderr",
     "output_type": "stream",
     "text": [
      "\u001b[32m\u001b[1mPrecompiling\u001b[22m\u001b[39m "
     ]
    },
    {
     "name": "stderr",
     "output_type": "stream",
     "text": [
      "project...\n"
     ]
    },
    {
     "name": "stderr",
     "output_type": "stream",
     "text": [
      "\u001b[32m  ✓ \u001b[39m\u001b[90mGPUArrays\u001b[39m\n",
      "\u001b[32m  ✓ \u001b[39m\u001b[90mOneHotArrays\u001b[39m\n"
     ]
    },
    {
     "name": "stderr",
     "output_type": "stream",
     "text": [
      "\u001b[32m  ✓ \u001b[39m\u001b[90mForwardDiff\u001b[39m\n"
     ]
    },
    {
     "name": "stderr",
     "output_type": "stream",
     "text": [
      "\u001b[32m  ✓ \u001b[39m\u001b[90mForwardDiff → ForwardDiffStaticArraysExt\u001b[39m\n"
     ]
    },
    {
     "name": "stderr",
     "output_type": "stream",
     "text": [
      "\u001b[32m  ✓ \u001b[39m\u001b[90mZygote\u001b[39m\n"
     ]
    },
    {
     "name": "stderr",
     "output_type": "stream",
     "text": [
      "\u001b[32m  ✓ \u001b[39m\u001b[90mZygote → ZygoteColorsExt\u001b[39m\n"
     ]
    },
    {
     "name": "stderr",
     "output_type": "stream",
     "text": [
      "\u001b[32m  ✓ \u001b[39mFlux\n",
      "  7 dependencies successfully precompiled in 49 seconds. 249 already precompiled.\n",
      "\u001b[32m\u001b[1m   Resolving\u001b[22m\u001b[39m package versions...\n"
     ]
    },
    {
     "name": "stderr",
     "output_type": "stream",
     "text": [
      "\u001b[32m\u001b[1m  No Changes\u001b[22m\u001b[39m to `~/Desktop/Harvard/2.5/PRISE/Project/MatchgateGAN/Project.toml`\n",
      "\u001b[32m\u001b[1m  No Changes\u001b[22m\u001b[39m to `~/Desktop/Harvard/2.5/PRISE/Project/MatchgateGAN/Manifest.toml`\n"
     ]
    },
    {
     "name": "stderr",
     "output_type": "stream",
     "text": [
      "\u001b[32m\u001b[1m   Resolving\u001b[22m\u001b[39m package versions...\n"
     ]
    },
    {
     "name": "stderr",
     "output_type": "stream",
     "text": [
      "\u001b[32m\u001b[1m    Updating\u001b[22m\u001b[39m `~/Desktop/Harvard/2.5/PRISE/Project/MatchgateGAN/Project.toml`\n",
      "  \u001b[90m[6d9310a3] \u001b[39m\u001b[92m+ FLOYao v1.4.0\u001b[39m\n",
      "\u001b[32m\u001b[1m    Updating\u001b[22m\u001b[39m `~/Desktop/Harvard/2.5/PRISE/Project/MatchgateGAN/Manifest.toml`\n"
     ]
    },
    {
     "name": "stderr",
     "output_type": "stream",
     "text": [
      "  \u001b[90m[6d9310a3] \u001b[39m\u001b[92m+ FLOYao v1.4.0\u001b[39m\n"
     ]
    },
    {
     "name": "stderr",
     "output_type": "stream",
     "text": [
      "\u001b[32m\u001b[1m   Resolving\u001b[22m\u001b[39m package versions...\n"
     ]
    },
    {
     "name": "stderr",
     "output_type": "stream",
     "text": [
      "\u001b[32m\u001b[1m   Installed\u001b[22m\u001b[39m micromamba_jll ─ v1.4.9+0\n"
     ]
    },
    {
     "name": "stderr",
     "output_type": "stream",
     "text": [
      "\u001b[32m\u001b[1m    Updating\u001b[22m\u001b[39m `~/Desktop/Harvard/2.5/PRISE/Project/MatchgateGAN/Project.toml`\n",
      "  \u001b[90m[6099a3de] \u001b[39m\u001b[92m+ PythonCall v0.9.14\u001b[39m\n",
      "\u001b[32m\u001b[1m    Updating\u001b[22m\u001b[39m `~/Desktop/Harvard/2.5/PRISE/Project/MatchgateGAN/Manifest.toml`\n"
     ]
    },
    {
     "name": "stderr",
     "output_type": "stream",
     "text": [
      "  \u001b[90m[992eb4ea] \u001b[39m\u001b[92m+ CondaPkg v0.2.18\u001b[39m\n",
      "  \u001b[90m[0b3b1443] \u001b[39m\u001b[92m+ MicroMamba v0.1.14\u001b[39m\n",
      "  \u001b[90m[fa939f87] \u001b[39m\u001b[92m+ Pidfile v1.3.0\u001b[39m\n",
      "  \u001b[90m[6099a3de] \u001b[39m\u001b[92m+ PythonCall v0.9.14\u001b[39m\n",
      "  \u001b[90m[e17b2a0c] \u001b[39m\u001b[92m+ UnsafePointers v1.0.0\u001b[39m\n",
      "  \u001b[90m[f8abcde7] \u001b[39m\u001b[92m+ micromamba_jll v1.4.9+0\u001b[39m\n"
     ]
    },
    {
     "name": "stderr",
     "output_type": "stream",
     "text": [
      "\u001b[32m\u001b[1mPrecompiling\u001b[22m\u001b[39m "
     ]
    },
    {
     "name": "stderr",
     "output_type": "stream",
     "text": [
      "project...\n"
     ]
    },
    {
     "name": "stderr",
     "output_type": "stream",
     "text": [
      "\u001b[32m  ✓ \u001b[39m\u001b[90mmicromamba_jll\u001b[39m\n"
     ]
    },
    {
     "name": "stderr",
     "output_type": "stream",
     "text": [
      "\u001b[32m  ✓ \u001b[39m\u001b[90mMicroMamba\u001b[39m\n"
     ]
    },
    {
     "name": "stderr",
     "output_type": "stream",
     "text": [
      "\u001b[32m  ✓ \u001b[39m\u001b[90mCondaPkg\u001b[39m\n"
     ]
    },
    {
     "name": "stderr",
     "output_type": "stream",
     "text": [
      "\u001b[32m  ✓ \u001b[39mPythonCall\n",
      "  4 dependencies successfully precompiled in 19 seconds. 259 already precompiled.\n",
      "  \u001b[33m1\u001b[39m dependency had warnings during precompilation:\u001b[33m\n",
      "┌ \u001b[39mMicroMamba [0b3b1443-0f03-428d-bdfb-f27f9c1191ea]\u001b[33m\n",
      "│  \u001b[39m\u001b[32m\u001b[1m Downloading\u001b[22m\u001b[39m artifact: micromamba\u001b[33m\n",
      "└  \u001b[39m\n"
     ]
    }
   ],
   "source": [
    "# using Pkg\n",
    "# Pkg.activate(\"\")\n",
    "\n",
    "# # Packages that you need\n",
    "# packages_to_install = [\"MLDatasets\", \"Plots\", \"Statistics\", \"Distributions\", \"Random\", \"Flux\", \"Yao\", \"FLOYao\", \"PythonCall\", \"BenchmarkTools\"]\n",
    "\n",
    "# for pkg in packages_to_install\n",
    "#     Pkg.add(pkg)\n",
    "# end"
   ]
  },
  {
   "cell_type": "code",
   "execution_count": 2,
   "metadata": {},
   "outputs": [
    {
     "data": {
      "image/png": "[encoded data removed]",
      "image/svg+xml": [
       "<?xml version=\"1.0\" encoding=\"utf-8\"?>\n",
       "<svg xmlns=\"http://www.w3.org/2000/svg\" xmlns:xlink=\"http://www.w3.org/1999/xlink\" width=\"150\" height=\"100\" viewBox=\"0 0 600 400\">\n",
       "<defs>\n",
       "  <clipPath id=\"clip090\">\n",
       "    <rect x=\"0\" y=\"0\" width=\"600\" height=\"400\"/>\n",
       "  </clipPath>\n",
       "</defs>\n",
       "<path clip-path=\"url(#clip090)\" d=\"\n",
       "M0 400 L600 400 L600 0 L0 0  Z\n",
       "  \" fill=\"#ffffff\" fill-rule=\"evenodd\" fill-opacity=\"1\"/>\n",
       "<defs>\n",
       "  <clipPath id=\"clip091\">\n",
       "    <rect x=\"120\" y=\"0\" width=\"421\" height=\"400\"/>\n",
       "  </clipPath>\n",
       "</defs>\n",
       "<path clip-path=\"url(#clip090)\" d=\"\n",
       "M11.811 388.189 L288.189 388.189 L288.189 11.811 L11.811 11.811  Z\n",
       "  \" fill=\"#ffffff\" fill-rule=\"evenodd\" fill-opacity=\"1\"/>\n",
       "<defs>\n",
       "  <clipPath id=\"clip092\">\n",
       "    <rect x=\"11\" y=\"11\" width=\"277\" height=\"377\"/>\n",
       "  </clipPath>\n",
       "</defs>\n",
       "<polyline clip-path=\"url(#clip090)\" style=\"stroke:#000000; stroke-width:1; stroke-opacity:1; fill:none\" points=\"\n",
       "  11.811,388.189 288.189,388.189 \n",
       "  \"/>\n",
       "<polyline clip-path=\"url(#clip090)\" style=\"stroke:#000000; stroke-width:1; stroke-opacity:1; fill:none\" points=\"\n",
       "  11.811,388.189 11.811,11.811 \n",
       "  \"/>\n",
       "<g clip-path=\"url(#clip092)\">\n",
       "<image width=\"276\" height=\"376\" xlink:href=\"data:image/png;base64,\n",
       "iVBORw0KGgoAAAANSUhEUgAAARQAAAF4CAYAAACVRgZYAAAFHElEQVR4nO3d0anDMBAAweThX1Wg\n",
       "/ktTHUkLISzPjjVTwCGwWe7vnmOM1wMg8Hf2A4D7EBQgIyhARlCAjKAAGUEBMoICZAQFyAgKkBEU\n",
       "ICMoQEZQgIygABlBATKCAmQEBcgICpARFCAjKEBGUICMoAAZQQEyggJkBAXICAqQERQgIyhARlCA\n",
       "jKAAGUEBMoICZAQFyAgKkBEUICMoQEZQgIygABlBATKCAmQEBcgICpARFCAjKEBGUICMoAAZQQEy\n",
       "ggJkBAXICAqQERQgIyhARlCAjKAAmePsB8AVrbWyWXPObNbV2VCAjKAAGUEBMoICZAQFyAgKkBEU\n",
       "ICMoQEZQgIygABlBATKCAmQEBcgICpARFCAjKEBGUICMoAAZQQEyggJkBAXICAqQERQgIyhARlCA\n",
       "jKAAmcufIi1PQj4ee52FhP9mQwEyggJkBAXICAqQERQgIyhARlCAjKAAGUEBMoICZAQFyAgKkBEU\n",
       "ICMoQEZQgIygABlBATKCAmQEBcgICpARFCAjKEBGUICMoAAZQQEyggJkLn+KFD5Rn6zlOzYUICMo\n",
       "QEZQgIygABlBATKCAmQEBcgICpARFCAjKEBGUICMoAAZQQEyggJkBAXICAqQERQgIyhARlCAjKAA\n",
       "GUEBMoICZAQFyAgKkBEUICMoQEZQgIygABlBATKCAmQEBcgICpARFCAjKEBGUICMoAAZQQEyggJk\n",
       "BAXICAqQERQgIyhARlCAjKAAGUEBMoICZAQFyAgKkBEUICMoQEZQgIygABlBATJHPXCtVY/khvwn\n",
       "92RDATKCAmQEBcgICpARFCAjKEBGUICMoAAZQQEyggJkBAXICAqQERQgIyhARlCAjKAAGUEBMoIC\n",
       "ZAQFyAgKkBEUICMoQEZQgIygABlBATL55cCrc7GOT8w5z37CT7KhABlBATKCAmQEBcgICpARFCAj\n",
       "KEBGUICMoAAZQQEyggJkBAXICAqQERQgIyhARlCAjKAAGUEBMoICZAQFyAgKkBEUICMoQEZQgIyg\n",
       "ABlBATL5KdL6hONOp0N3On+503fdiQ0FyAgKkBEUICMoQEZQgIygABlBATKCAmQEBcgICpARFCAj\n",
       "KEBGUICMoAAZQQEyggJkBAXICAqQERQgIyhARlCAjKAAGUEBMoICZAQFyAgKkMlPkdZ2Os8Jv86G\n",
       "AmQEBcgICpARFCAjKEBGUICMoAAZQQEyggJkBAXICAqQERQgIyhARlCAjKAAGUEBMoICZAQFyAgK\n",
       "kBEUICMoQEZQgIygABlBATKCAmQEBcgICpARFCAjKEBGUICMoAAZQQEyggJkBAXICAqQERQgIyhA\n",
       "RlCAjKAAGUEBMoICZAQFyAgKkBEUICMoQEZQgIygABlBATKCAmQEBcgICpARFCAjKEBGUICMoAAZ\n",
       "QQEyggJkBAXICAqQERQgIyhARlCAjKAAGUEBMoICZAQFyAgKkBEUICMoQEZQgIygABlBATKCAmQE\n",
       "BcgICpARFCAjKEBGUICMoAAZQQEyx9kPYE9zznTeWiudx3dsKEBGUICMoAAZQQEyggJkBAXICAqQ\n",
       "ERQgIyhARlCAjKAAGUEBMoICZAQFyAgKkBEUICMoQEZQgIygABlBATKCAmQEBcgICpARFCAjKEBG\n",
       "UIDMc4zxOvsRwD3YUICMoAAZQQEyggJkBAXICAqQERQgIyhARlCAjKAAGUEBMoICZAQFyAgKkBEU\n",
       "ICMoQEZQgIygABlBATKCAmQEBcgICpARFCAjKEBGUIDMG8WFH6mlaD1YAAAAAElFTkSuQmCC\n",
       "\" transform=\"translate(12, 12)\"/>\n",
       "</g>\n",
       "<path clip-path=\"url(#clip090)\" d=\"\n",
       "M311.811 388.189 L588.189 388.189 L588.189 11.811 L311.811 11.811  Z\n",
       "  \" fill=\"#ffffff\" fill-rule=\"evenodd\" fill-opacity=\"1\"/>\n",
       "<defs>\n",
       "  <clipPath id=\"clip093\">\n",
       "    <rect x=\"311\" y=\"11\" width=\"277\" height=\"377\"/>\n",
       "  </clipPath>\n",
       "</defs>\n",
       "<polyline clip-path=\"url(#clip090)\" style=\"stroke:#000000; stroke-width:1; stroke-opacity:1; fill:none\" points=\"\n",
       "  311.811,388.189 588.189,388.189 \n",
       "  \"/>\n",
       "<polyline clip-path=\"url(#clip090)\" style=\"stroke:#000000; stroke-width:1; stroke-opacity:1; fill:none\" points=\"\n",
       "  311.811,388.189 311.811,11.811 \n",
       "  \"/>\n",
       "<g clip-path=\"url(#clip093)\">\n",
       "<image width=\"276\" height=\"376\" xlink:href=\"data:image/png;base64,\n",
       "iVBORw0KGgoAAAANSUhEUgAAARQAAAF4CAYAAACVRgZYAAAFJ0lEQVR4nO3dwY0CMRAAwePEdyNw\n",
       "/qE5Di4CJMQ1stmtCmA1Bqk1v7kdx/H4AQj8rh4AOA9BATKCAmQEBcgICpARFCAjKEBGUICMoAAZ\n",
       "QQEyggJkBAXICAqQERQgIyhARlCAjKAAGUEBMoICZAQFyAgKkBEUICMoQEZQgIygABlBATKCAmQE\n",
       "BcgICpARFCAjKEBGUICMoAAZQQEyggJkBAXICAqQERQgIyhARlCAjKAAGUEBMoICZAQFyAgKkBEU\n",
       "ICMoQEZQgIygABlBATKCAmQEBcgICpC5rx4AdjTnXD3CU2OM1SM8ZUMBMoICZAQFyAgKkBEUICMo\n",
       "QEZQgIygABlBATKCAmQEBcgICpARFCAjKEBGUICMoAAZQQEyggJkBAXICAqQERQgIyhARlCAjKAA\n",
       "GUEBMoICZAQFyAgKkBEUICMoQEZQgIygABlBATKCAmQEBcgICpARFCAjKEBGUICMoAAZQQEyggJk\n",
       "BAXICAqQERQgIyhARlCAjKAAGUEBMoICZAQFyAgKkBEUIHNfPQCfM+fMvjXGyL71CeVba7v/diUb\n",
       "CpARFCAjKEBGUICMoAAZQQEyggJkBAXICAqQERQgIyhARlCAjKAAGUEBMoICZAQFyAgKkBEUICMo\n",
       "QEZQgIygABlBATKCAmQEBcgICpARFCDjFOlGdj6nCa+woQAZQQEyggJkBAXICAqQERQgIyhARlCA\n",
       "jKAAGUEBMoICZAQFyAgKkBEUICMoQEZQgIygABlBATKCAmQEBcgICpARFCAjKEBGUICMoAAZQQEy\n",
       "TpGyxO5nV8cYq0f4SjYUICMoQEZQgIygABlBATKCAmQEBcgICpARFCAjKEBGUICMoAAZQQEyggJk\n",
       "BAXICAqQERQgIyhARlCAjKAAGUEBMoICZAQFyAgKkBEUIONy4D/sfv2udKW38j4bCpARFCAjKEBG\n",
       "UICMoAAZQQEyggJkBAXICAqQERQgIyhARlCAjKAAGUEBMoICZAQFyAgKkBEUICMoQEZQgIygABlB\n",
       "ATKCAmQEBcgICpARFCBzuVOkO5/UHGOk39v5rZyTDQXICAqQERQgIyhARlCAjKAAGUEBMoICZAQF\n",
       "yAgKkBEUICMoQEZQgIygABlBATKCAmQEBcgICpARFCAjKEBGUICMoAAZQQEyggJkBAXICAqQudwp\n",
       "0vrcJ+/xP5yTDQXICAqQERQgIyhARlCAjKAAGUEBMoICZAQFyAgKkBEUICMoQEZQgIygABlBATKC\n",
       "AmQEBcgICpARFCAjKEBGUICMoAAZQQEyggJkBAXICAqQudwp0p3NOVeP8JTTobzChgJkBAXICAqQ\n",
       "ERQgIyhARlCAjKAAGUEBMoICZAQFyAgKkBEUICMoQEZQgIygABlBATKCAmQEBcgICpARFCAjKEBG\n",
       "UICMoAAZQQEyggJkBAXICAqQERQgIyhARlCAjKAAGUEBMoICZAQFyAgKkBEUICMoQEZQgIygABlB\n",
       "ATKCAmQEBcgICpARFCAjKEBGUICMoAAZQQEyggJkBAXICAqQERQgIyhA5nYcx2P1EMA52FCAjKAA\n",
       "GUEBMoICZAQFyAgKkBEUICMoQEZQgIygABlBATKCAmQEBcgICpARFCAjKEBGUICMoAAZQQEyggJk\n",
       "BAXICAqQERQgIyhARlCAjKAAGUEBMoICZAQFyAgKkBEUICMoQEZQgIygABlBATKCAmQEBcgICpAR\n",
       "FCAjKEBGUICMoAAZQQEyggJkBAXICAqQERQgIyhARlCAjKAAGUEBMoICZP4ASaAiqUxGtH4AAAAA\n",
       "SUVORK5CYII=\n",
       "\" transform=\"translate(312, 12)\"/>\n",
       "</g>\n",
       "</svg>\n"
      ],
      "text/html": [
       "<?xml version=\"1.0\" encoding=\"utf-8\"?>\n",
       "<svg xmlns=\"http://www.w3.org/2000/svg\" xmlns:xlink=\"http://www.w3.org/1999/xlink\" width=\"150\" height=\"100\" viewBox=\"0 0 600 400\">\n",
       "<defs>\n",
       "  <clipPath id=\"clip120\">\n",
       "    <rect x=\"0\" y=\"0\" width=\"600\" height=\"400\"/>\n",
       "  </clipPath>\n",
       "</defs>\n",
       "<path clip-path=\"url(#clip120)\" d=\"\n",
       "M0 400 L600 400 L600 0 L0 0  Z\n",
       "  \" fill=\"#ffffff\" fill-rule=\"evenodd\" fill-opacity=\"1\"/>\n",
       "<defs>\n",
       "  <clipPath id=\"clip121\">\n",
       "    <rect x=\"120\" y=\"0\" width=\"421\" height=\"400\"/>\n",
       "  </clipPath>\n",
       "</defs>\n",
       "<path clip-path=\"url(#clip120)\" d=\"\n",
       "M11.811 388.189 L288.189 388.189 L288.189 11.811 L11.811 11.811  Z\n",
       "  \" fill=\"#ffffff\" fill-rule=\"evenodd\" fill-opacity=\"1\"/>\n",
       "<defs>\n",
       "  <clipPath id=\"clip122\">\n",
       "    <rect x=\"11\" y=\"11\" width=\"277\" height=\"377\"/>\n",
       "  </clipPath>\n",
       "</defs>\n",
       "<polyline clip-path=\"url(#clip120)\" style=\"stroke:#000000; stroke-width:1; stroke-opacity:1; fill:none\" points=\"\n",
       "  11.811,388.189 288.189,388.189 \n",
       "  \"/>\n",
       "<polyline clip-path=\"url(#clip120)\" style=\"stroke:#000000; stroke-width:1; stroke-opacity:1; fill:none\" points=\"\n",
       "  11.811,388.189 11.811,11.811 \n",
       "  \"/>\n",
       "<g clip-path=\"url(#clip122)\">\n",
       "<image width=\"276\" height=\"376\" xlink:href=\"data:image/png;base64,\n",
       "iVBORw0KGgoAAAANSUhEUgAAARQAAAF4CAYAAACVRgZYAAAFHElEQVR4nO3d0anDMBAAweThX1Wg\n",
       "/ktTHUkLISzPjjVTwCGwWe7vnmOM1wMg8Hf2A4D7EBQgIyhARlCAjKAAGUEBMoICZAQFyAgKkBEU\n",
       "ICMoQEZQgIygABlBATKCAmQEBcgICpARFCAjKEBGUICMoAAZQQEyggJkBAXICAqQERQgIyhARlCA\n",
       "jKAAGUEBMoICZAQFyAgKkBEUICMoQEZQgIygABlBATKCAmQEBcgICpARFCAjKEBGUICMoAAZQQEy\n",
       "ggJkBAXICAqQERQgIyhARlCAjKAAmePsB8AVrbWyWXPObNbV2VCAjKAAGUEBMoICZAQFyAgKkBEU\n",
       "ICMoQEZQgIygABlBATKCAmQEBcgICpARFCAjKEBGUICMoAAZQQEyggJkBAXICAqQERQgIyhARlCA\n",
       "jKAAmcufIi1PQj4ee52FhP9mQwEyggJkBAXICAqQERQgIyhARlCAjKAAGUEBMoICZAQFyAgKkBEU\n",
       "ICMoQEZQgIygABlBATKCAmQEBcgICpARFCAjKEBGUICMoAAZQQEyggJkLn+KFD5Rn6zlOzYUICMo\n",
       "QEZQgIygABlBATKCAmQEBcgICpARFCAjKEBGUICMoAAZQQEyggJkBAXICAqQERQgIyhARlCAjKAA\n",
       "GUEBMoICZAQFyAgKkBEUICMoQEZQgIygABlBATKCAmQEBcgICpARFCAjKEBGUICMoAAZQQEyggJk\n",
       "BAXICAqQERQgIyhARlCAjKAAGUEBMoICZAQFyAgKkBEUICMoQEZQgIygABlBATJHPXCtVY/khvwn\n",
       "92RDATKCAmQEBcgICpARFCAjKEBGUICMoAAZQQEyggJkBAXICAqQERQgIyhARlCAjKAAGUEBMoIC\n",
       "ZAQFyAgKkBEUICMoQEZQgIygABlBATL55cCrc7GOT8w5z37CT7KhABlBATKCAmQEBcgICpARFCAj\n",
       "KEBGUICMoAAZQQEyggJkBAXICAqQERQgIyhARlCAjKAAGUEBMoICZAQFyAgKkBEUICMoQEZQgIyg\n",
       "ABlBATL5KdL6hONOp0N3On+503fdiQ0FyAgKkBEUICMoQEZQgIygABlBATKCAmQEBcgICpARFCAj\n",
       "KEBGUICMoAAZQQEyggJkBAXICAqQERQgIyhARlCAjKAAGUEBMoICZAQFyAgKkMlPkdZ2Os8Jv86G\n",
       "AmQEBcgICpARFCAjKEBGUICMoAAZQQEyggJkBAXICAqQERQgIyhARlCAjKAAGUEBMoICZAQFyAgK\n",
       "kBEUICMoQEZQgIygABlBATKCAmQEBcgICpARFCAjKEBGUICMoAAZQQEyggJkBAXICAqQERQgIyhA\n",
       "RlCAjKAAGUEBMoICZAQFyAgKkBEUICMoQEZQgIygABlBATKCAmQEBcgICpARFCAjKEBGUICMoAAZ\n",
       "QQEyggJkBAXICAqQERQgIyhARlCAjKAAGUEBMoICZAQFyAgKkBEUICMoQEZQgIygABlBATKCAmQE\n",
       "BcgICpARFCAjKEBGUICMoAAZQQEyx9kPYE9zznTeWiudx3dsKEBGUICMoAAZQQEyggJkBAXICAqQ\n",
       "ERQgIyhARlCAjKAAGUEBMoICZAQFyAgKkBEUICMoQEZQgIygABlBATKCAmQEBcgICpARFCAjKEBG\n",
       "UIDMc4zxOvsRwD3YUICMoAAZQQEyggJkBAXICAqQERQgIyhARlCAjKAAGUEBMoICZAQFyAgKkBEU\n",
       "ICMoQEZQgIygABlBATKCAmQEBcgICpARFCAjKEBGUIDMG8WFH6mlaD1YAAAAAElFTkSuQmCC\n",
       "\" transform=\"translate(12, 12)\"/>\n",
       "</g>\n",
       "<path clip-path=\"url(#clip120)\" d=\"\n",
       "M311.811 388.189 L588.189 388.189 L588.189 11.811 L311.811 11.811  Z\n",
       "  \" fill=\"#ffffff\" fill-rule=\"evenodd\" fill-opacity=\"1\"/>\n",
       "<defs>\n",
       "  <clipPath id=\"clip123\">\n",
       "    <rect x=\"311\" y=\"11\" width=\"277\" height=\"377\"/>\n",
       "  </clipPath>\n",
       "</defs>\n",
       "<polyline clip-path=\"url(#clip120)\" style=\"stroke:#000000; stroke-width:1; stroke-opacity:1; fill:none\" points=\"\n",
       "  311.811,388.189 588.189,388.189 \n",
       "  \"/>\n",
       "<polyline clip-path=\"url(#clip120)\" style=\"stroke:#000000; stroke-width:1; stroke-opacity:1; fill:none\" points=\"\n",
       "  311.811,388.189 311.811,11.811 \n",
       "  \"/>\n",
       "<g clip-path=\"url(#clip123)\">\n",
       "<image width=\"276\" height=\"376\" xlink:href=\"data:image/png;base64,\n",
       "iVBORw0KGgoAAAANSUhEUgAAARQAAAF4CAYAAACVRgZYAAAFJ0lEQVR4nO3dwY0CMRAAwePEdyNw\n",
       "/qE5Di4CJMQ1stmtCmA1Bqk1v7kdx/H4AQj8rh4AOA9BATKCAmQEBcgICpARFCAjKEBGUICMoAAZ\n",
       "QQEyggJkBAXICAqQERQgIyhARlCAjKAAGUEBMoICZAQFyAgKkBEUICMoQEZQgIygABlBATKCAmQE\n",
       "BcgICpARFCAjKEBGUICMoAAZQQEyggJkBAXICAqQERQgIyhARlCAjKAAGUEBMoICZAQFyAgKkBEU\n",
       "ICMoQEZQgIygABlBATKCAmQEBcgICpC5rx4AdjTnXD3CU2OM1SM8ZUMBMoICZAQFyAgKkBEUICMo\n",
       "QEZQgIygABlBATKCAmQEBcgICpARFCAjKEBGUICMoAAZQQEyggJkBAXICAqQERQgIyhARlCAjKAA\n",
       "GUEBMoICZAQFyAgKkBEUICMoQEZQgIygABlBATKCAmQEBcgICpARFCAjKEBGUICMoAAZQQEyggJk\n",
       "BAXICAqQERQgIyhARlCAjKAAGUEBMoICZAQFyAgKkBEUIHNfPQCfM+fMvjXGyL71CeVba7v/diUb\n",
       "CpARFCAjKEBGUICMoAAZQQEyggJkBAXICAqQERQgIyhARlCAjKAAGUEBMoICZAQFyAgKkBEUICMo\n",
       "QEZQgIygABlBATKCAmQEBcgICpARFCDjFOlGdj6nCa+woQAZQQEyggJkBAXICAqQERQgIyhARlCA\n",
       "jKAAGUEBMoICZAQFyAgKkBEUICMoQEZQgIygABlBATKCAmQEBcgICpARFCAjKEBGUICMoAAZQQEy\n",
       "TpGyxO5nV8cYq0f4SjYUICMoQEZQgIygABlBATKCAmQEBcgICpARFCAjKEBGUICMoAAZQQEyggJk\n",
       "BAXICAqQERQgIyhARlCAjKAAGUEBMoICZAQFyAgKkBEUIONy4D/sfv2udKW38j4bCpARFCAjKEBG\n",
       "UICMoAAZQQEyggJkBAXICAqQERQgIyhARlCAjKAAGUEBMoICZAQFyAgKkBEUICMoQEZQgIygABlB\n",
       "ATKCAmQEBcgICpARFCBzuVOkO5/UHGOk39v5rZyTDQXICAqQERQgIyhARlCAjKAAGUEBMoICZAQF\n",
       "yAgKkBEUICMoQEZQgIygABlBATKCAmQEBcgICpARFCAjKEBGUICMoAAZQQEyggJkBAXICAqQudwp\n",
       "0vrcJ+/xP5yTDQXICAqQERQgIyhARlCAjKAAGUEBMoICZAQFyAgKkBEUICMoQEZQgIygABlBATKC\n",
       "AmQEBcgICpARFCAjKEBGUICMoAAZQQEyggJkBAXICAqQudwp0p3NOVeP8JTTobzChgJkBAXICAqQ\n",
       "ERQgIyhARlCAjKAAGUEBMoICZAQFyAgKkBEUICMoQEZQgIygABlBATKCAmQEBcgICpARFCAjKEBG\n",
       "UICMoAAZQQEyggJkBAXICAqQERQgIyhARlCAjKAAGUEBMoICZAQFyAgKkBEUICMoQEZQgIygABlB\n",
       "ATKCAmQEBcgICpARFCAjKEBGUICMoAAZQQEyggJkBAXICAqQERQgIyhA5nYcx2P1EMA52FCAjKAA\n",
       "GUEBMoICZAQFyAgKkBEUICMoQEZQgIygABlBATKCAmQEBcgICpARFCAjKEBGUICMoAAZQQEyggJk\n",
       "BAXICAqQERQgIyhARlCAjKAAGUEBMoICZAQFyAgKkBEUICMoQEZQgIygABlBATKCAmQEBcgICpAR\n",
       "FCAjKEBGUICMoAAZQQEyggJkBAXICAqQERQgIyhARlCAjKAAGUEBMoICZP4ASaAiqUxGtH4AAAAA\n",
       "SUVORK5CYII=\n",
       "\" transform=\"translate(312, 12)\"/>\n",
       "</g>\n",
       "</svg>\n"
      ]
     },
     "metadata": {},
     "output_type": "display_data"
    }
   ],
   "source": [
    "using MLDatasets\n",
    "using Plots\n",
    "using Statistics\n",
    "using Distributions\n",
    "using Random\n",
    "\n",
    "train = 2 # Size of training dataset\n",
    "\n",
    "digit = 4 # Digit to be learned\n",
    "image_size = 28 # Size of image\n",
    "compress_size = 14 # Size of compressed image\n",
    "\n",
    "function compress(img, original, compress, max = true) #If max is false, then it does mean-convolution instead\n",
    "    ratio = original ÷ compress\n",
    "    compressed = zeros(compress, compress)\n",
    "    a = []\n",
    "    for i in 0:compress-1\n",
    "        for j in 0:compress-1\n",
    "            empty!(a)\n",
    "            for p in 1:ratio\n",
    "                for q in 1:ratio\n",
    "                    push!(a, img[(ratio*i) + p, (ratio*j) + q])\n",
    "                end\n",
    "            end\n",
    "            compressed[i+1, j+1] = max ? maximum(a) : mean(a)\n",
    "        end\n",
    "    end\n",
    "    return compressed\n",
    "end\n",
    "\n",
    "train_set = MNIST(:train)\n",
    "train_labels = MNIST(split=:train).targets\n",
    "\n",
    "data_train = []\n",
    "c = 1\n",
    "trainstats = []\n",
    "for _ in 1:train\n",
    "    while train_labels[c] != digit\n",
    "        c += 1\n",
    "    end\n",
    "    push!(data_train, compress(rotl90(train_set[c][1]), image_size, compress_size) .> 0.5)\n",
    "    push!(trainstats, sum(train_set[c][1] .> 0.5))\n",
    "    c += 1\n",
    "end\n",
    "\n",
    "plot([heatmap(x, color=:grays, colorbar = false, ticks = false) for x in data_train]...) #Is there any way to make this look nicer? oh well it's not a big deal\n"
   ]
  },
  {
   "cell_type": "code",
   "execution_count": 3,
   "metadata": {},
   "outputs": [
    {
     "name": "stdout",
     "output_type": "stream",
     "text": [
      "Number of parameters in discriminator: 4951\n"
     ]
    },
    {
     "name": "stdout",
     "output_type": "stream",
     "text": [
      "Number of parameters in generator: 1955\n"
     ]
    }
   ],
   "source": [
    "using Yao\n",
    "using FLOYao\n",
    "using Flux\n",
    "\n",
    "N = compress_size^2 #Number of qubits\n",
    "\n",
    "function NeuralNetwork(num_dim = N, random = true)\n",
    "    net = Chain(Dense(num_dim, 25, relu), Dense(25, 1, identity))\n",
    "    if !random\n",
    "        for p in Flux.params(net)\n",
    "            p .= (ones(size(p)) .* 0.08)\n",
    "        end\n",
    "    end\n",
    "    return net\n",
    "end\n",
    "\n",
    "#d = NeuralNetwork() #Parameters are random (typically is N(0, sqrt(width)), not really sure how it's implemented)\n",
    "d = Chain(Dense(N, 25, relu), Dense(25, 1, sigmoid)) #I have no clue what this looks like, and why does it have more parameters than expected\n",
    "\n",
    "nparams = sum(length, Flux.params(d))\n",
    "println(\"Number of parameters in discriminator: $nparams\")\n",
    "\n",
    "layers = 5\n",
    "g = chain(N) #Making the generator, which is a matchgate ansatz\n",
    "for _ in 1:layers\n",
    "    for i in 1:N-1\n",
    "        push!(g, rot(kron(N, i => X, i+1 => X), 0.))\n",
    "    end\n",
    "    for i in 1:N\n",
    "        push!(g, put(N, i => Rz(0.)))\n",
    "    end\n",
    "end\n",
    "# function build_circuit(n::Int = N, nlayers::Int = layers)\n",
    "#     circuit = chain(n) #Making the generator, which is a matchgate ansatz; this just uses Yao though? or does saying \"using FLOYao\" somehow change the implementation... Not really sure\n",
    "#     for _ in 1:nlayers\n",
    "#         for i in 1:N-1\n",
    "#             push!(circuit, rot(kron(N, i => X, i+1 => X), 0.))\n",
    "#         end\n",
    "#         for i in 1:N\n",
    "#             push!(circuit, put(N, i => Rz(0.)))\n",
    "#         end\n",
    "#     end\n",
    "# end\n",
    "\n",
    "#g = build_circuit()\n",
    "#g = build_circuit() |> autodiff(:QC)\n",
    "\n",
    "nparams = nparameters(g)\n",
    "println(\"Number of parameters in generator: $nparams\")  \n",
    "#dispatch!(g, ones(nparams) ./ 100); \n",
    "dispatch!(g, :random);"
   ]
  },
  {
   "cell_type": "code",
   "execution_count": 4,
   "metadata": {},
   "outputs": [
    {
     "name": "stdout",
     "output_type": "stream",
     "text": [
      "μ: 84.0\n",
      "σ: 4.242640687119285\n"
     ]
    },
    {
     "data": {
      "image/png": "[encoded data removed]",
      "image/svg+xml": [
       "<?xml version=\"1.0\" encoding=\"utf-8\"?>\n",
       "<svg xmlns=\"http://www.w3.org/2000/svg\" xmlns:xlink=\"http://www.w3.org/1999/xlink\" width=\"150\" height=\"100\" viewBox=\"0 0 600 400\">\n",
       "<defs>\n",
       "  <clipPath id=\"clip150\">\n",
       "    <rect x=\"0\" y=\"0\" width=\"600\" height=\"400\"/>\n",
       "  </clipPath>\n",
       "</defs>\n",
       "<path clip-path=\"url(#clip150)\" d=\"\n",
       "M0 400 L600 400 L600 0 L0 0  Z\n",
       "  \" fill=\"#ffffff\" fill-rule=\"evenodd\" fill-opacity=\"1\"/>\n",
       "<defs>\n",
       "  <clipPath id=\"clip151\">\n",
       "    <rect x=\"120\" y=\"0\" width=\"421\" height=\"400\"/>\n",
       "  </clipPath>\n",
       "</defs>\n",
       "<path clip-path=\"url(#clip150)\" d=\"\n",
       "M11.811 388.189 L588.189 388.189 L588.189 11.811 L11.811 11.811  Z\n",
       "  \" fill=\"#ffffff\" fill-rule=\"evenodd\" fill-opacity=\"1\"/>\n",
       "<defs>\n",
       "  <clipPath id=\"clip152\">\n",
       "    <rect x=\"11\" y=\"11\" width=\"577\" height=\"377\"/>\n",
       "  </clipPath>\n",
       "</defs>\n",
       "<polyline clip-path=\"url(#clip150)\" style=\"stroke:#000000; stroke-width:1; stroke-opacity:1; fill:none\" points=\"\n",
       "  11.811,388.189 588.189,388.189 \n",
       "  \"/>\n",
       "<polyline clip-path=\"url(#clip150)\" style=\"stroke:#000000; stroke-width:1; stroke-opacity:1; fill:none\" points=\"\n",
       "  11.811,388.189 11.811,11.811 \n",
       "  \"/>\n",
       "<g clip-path=\"url(#clip152)\">\n",
       "<image width=\"576\" height=\"376\" xlink:href=\"data:image/png;base64,\n",
       "iVBORw0KGgoAAAANSUhEUgAAAkAAAAF4CAYAAAC8W0ZrAAAH7klEQVR4nO3YwY3rNgBF0XHgrStg\n",
       "/6WxATXg7IIkG/kDgjnUPaeCB4kSLvg4juP9s4ExxuoJtzDnXD3hFpzHaziP13Emr+FMdvy1egAA\n",
       "wLcJIAAgRwABADkCCADIEUAAQI4AAgByBBAAkCOAAIAcAQQA5AggACBHAAEAOQIIAMgRQABAjgAC\n",
       "AHIEEACQI4AAgBwBBADkCCAAIEcAAQA5AggAyBFAAECOAAIAcgQQAJAjgACAHAEEAOQIIAAg57l6\n",
       "AN81xlg94dScc/UEvmSH8/jz40zCHbkBAgByBBAAkCOAAIAcAQQA5AggACBHAAEAOQIIAMgRQABA\n",
       "jgACAHIEEACQI4AAgBwBBADkCCAAIEcAAQA5AggAyBFAAECOAAIAcgQQAJAjgACAHAEEAOQIIAAg\n",
       "RwABADkCCADIEUAAQI4AAgByBBAAkPNcPeBTc87VE06NMVZPgK3s8F3vwrO8xg7/8R3e9Q7P0Q0Q\n",
       "AJAjgACAHAEEAOQIIAAgRwABADkCCADIEUAAQI4AAgByBBAAkCOAAIAcAQQA5AggACBHAAEAOQII\n",
       "AMgRQABAjgACAHIEEACQI4AAgBwBBADkCCAAIEcAAQA5AggAyBFAAECOAAIAcgQQAJAjgACAnOcY\n",
       "Y/WG25hzrp5waof3vcNGWpxJuB83QABAjgACAHIEEACQI4AAgBwBBADkCCAAIEcAAQA5AggAyBFA\n",
       "AECOAAIAcgQQAJAjgACAHAEEAOQIIAAgRwABADkCCADIEUAAQI4AAgByBBAAkCOAAIAcAQQA5Agg\n",
       "ACBHAAEAOQIIAMgRQABAjgACAHKeqwfA/805V0/gS8YYqyd8ZIczucOz3OE57mCHd70DN0AAQI4A\n",
       "AgByBBAAkCOAAIAcAQQA5AggACBHAAEAOQIIAMgRQABAjgACAHIEEACQI4AAgBwBBADkCCAAIEcA\n",
       "AQA5AggAyBFAAECOAAIAcgQQAJAjgACAHAEEAOQIIAAgRwABADkCCADIEUAAQI4AAgByHsdxvFeP\n",
       "+MQYY/WEU3PO1RNO7fAcd7DDu6bFt81vssM/0g0QAJAjgACAHAEEAOQIIAAgRwABADkCCADIEUAA\n",
       "QI4AAgByBBAAkCOAAIAcAQQA5AggACBHAAEAOQIIAMgRQABAjgACAHIEEACQI4AAgBwBBADkCCAA\n",
       "IEcAAQA5AggAyBFAAECOAAIAcgQQAJAjgACAnMfr9XqvHgE0zTlXT7iNMcbqCae872t419dwAwQA\n",
       "5AggACBHAAEAOQIIAMgRQABAjgACAHIEEACQI4AAgBwBBADkCCAAIEcAAQA5AggAyBFAAECOAAIA\n",
       "cgQQAJAjgACAHAEEAOQIIAAgRwABADkCCADIEUAAQI4AAgByBBAAkCOAAIAcAQQA5DyO43ivHvGJ\n",
       "McbqCbcw51w9Af7hu76Ob/saO5zJHd71Ds/RDRAAkCOAAIAcAQQA5AggACBHAAEAOQIIAMgRQABA\n",
       "jgACAHIEEACQI4AAgBwBBADkCCAAIEcAAQA5AggAyBFAAECOAAIAcgQQAJAjgACAHAEEAOQIIAAg\n",
       "RwABADkCCADIEUAAQI4AAgByBBAAkCOAAICc5+oBfNcYY/WEU3PO1RNO7fAcgT/n/9PhBggAyBFA\n",
       "AECOAAIAcgQQAJAjgACAHAEEAOQIIAAgRwABADkCCADIEUAAQI4AAgByBBAAkCOAAIAcAQQA5Agg\n",
       "ACBHAAEAOQIIAMgRQABAjgACAHIEEACQI4AAgBwBBADkCCAAIEcAAQA5AggAyBFAAEDO4/V6vVeP\n",
       "+MScc/UE2MoYY/WEU7t81zs8S66xy5n87Xb4ZtwAAQA5AggAyBFAAECOAAIAcgQQAJAjgACAHAEE\n",
       "AOQIIAAgRwABADkCCADIEUAAQI4AAgByBBAAkCOAAIAcAQQA5AggACBHAAEAOQIIAMgRQABAjgAC\n",
       "AHIEEACQI4AAgBwBBADkCCAAIEcAAQA5AggAyHmuHsB3jTFWT7iFOefqCad22EiLM8lv4gYIAMgR\n",
       "QABAjgACAHIEEACQI4AAgBwBBADkCCAAIEcAAQA5AggAyBFAAECOAAIAcgQQAJAjgACAHAEEAOQI\n",
       "IAAgRwABADkCCADIEUAAQI4AAgByBBAAkCOAAIAcAQQA5AggACBHAAEAOQIIAMgRQABAzuM4jvfq\n",
       "EZ8YY6yeAFuZc66ecGqX73qHZ7mDXd43DW6AAIAcAQQA5AggACBHAAEAOQIIAMgRQABAjgACAHIE\n",
       "EACQI4AAgBwBBADkCCAAIEcAAQA5AggAyBFAAECOAAIAcgQQAJAjgACAHAEEAOQIIAAgRwABADkC\n",
       "CADIEUAAQI4AAgByBBAAkCOAAIAcAQQA5DxXD7iTOefqCafGGKsn3IJ33eJZwv24AQIAcgQQAJAj\n",
       "gACAHAEEAOQIIAAgRwABADkCCADIEUAAQI4AAgByBBAAkCOAAIAcAQQA5AggACBHAAEAOQIIAMgR\n",
       "QABAjgACAHIEEACQI4AAgBwBBADkCCAAIEcAAQA5AggAyBFAAECOAAIAcgQQAJDzeL1e79Uj4N/m\n",
       "nKsnwH+MMVZP4Ev8f66xwzfjBggAyBFAAECOAAIAcgQQAJAjgACAHAEEAOQIIAAgRwABADkCCADI\n",
       "EUAAQI4AAgByBBAAkCOAAIAcAQQA5AggACBHAAEAOQIIAMgRQABAjgACAHIEEACQI4AAgBwBBADk\n",
       "CCAAIEcAAQA5AggAyPkbKheCsW2rscsAAAAASUVORK5CYII=\n",
       "\" transform=\"translate(12, 12)\"/>\n",
       "</g>\n",
       "</svg>\n"
      ],
      "text/html": [
       "<?xml version=\"1.0\" encoding=\"utf-8\"?>\n",
       "<svg xmlns=\"http://www.w3.org/2000/svg\" xmlns:xlink=\"http://www.w3.org/1999/xlink\" width=\"150\" height=\"100\" viewBox=\"0 0 600 400\">\n",
       "<defs>\n",
       "  <clipPath id=\"clip180\">\n",
       "    <rect x=\"0\" y=\"0\" width=\"600\" height=\"400\"/>\n",
       "  </clipPath>\n",
       "</defs>\n",
       "<path clip-path=\"url(#clip180)\" d=\"\n",
       "M0 400 L600 400 L600 0 L0 0  Z\n",
       "  \" fill=\"#ffffff\" fill-rule=\"evenodd\" fill-opacity=\"1\"/>\n",
       "<defs>\n",
       "  <clipPath id=\"clip181\">\n",
       "    <rect x=\"120\" y=\"0\" width=\"421\" height=\"400\"/>\n",
       "  </clipPath>\n",
       "</defs>\n",
       "<path clip-path=\"url(#clip180)\" d=\"\n",
       "M11.811 388.189 L588.189 388.189 L588.189 11.811 L11.811 11.811  Z\n",
       "  \" fill=\"#ffffff\" fill-rule=\"evenodd\" fill-opacity=\"1\"/>\n",
       "<defs>\n",
       "  <clipPath id=\"clip182\">\n",
       "    <rect x=\"11\" y=\"11\" width=\"577\" height=\"377\"/>\n",
       "  </clipPath>\n",
       "</defs>\n",
       "<polyline clip-path=\"url(#clip180)\" style=\"stroke:#000000; stroke-width:1; stroke-opacity:1; fill:none\" points=\"\n",
       "  11.811,388.189 588.189,388.189 \n",
       "  \"/>\n",
       "<polyline clip-path=\"url(#clip180)\" style=\"stroke:#000000; stroke-width:1; stroke-opacity:1; fill:none\" points=\"\n",
       "  11.811,388.189 11.811,11.811 \n",
       "  \"/>\n",
       "<g clip-path=\"url(#clip182)\">\n",
       "<image width=\"576\" height=\"376\" xlink:href=\"data:image/png;base64,\n",
       "iVBORw0KGgoAAAANSUhEUgAAAkAAAAF4CAYAAAC8W0ZrAAAH7klEQVR4nO3YwY3rNgBF0XHgrStg\n",
       "/6WxATXg7IIkG/kDgjnUPaeCB4kSLvg4juP9s4ExxuoJtzDnXD3hFpzHaziP13Emr+FMdvy1egAA\n",
       "wLcJIAAgRwABADkCCADIEUAAQI4AAgByBBAAkCOAAIAcAQQA5AggACBHAAEAOQIIAMgRQABAjgAC\n",
       "AHIEEACQI4AAgBwBBADkCCAAIEcAAQA5AggAyBFAAECOAAIAcgQQAJAjgACAHAEEAOQIIAAg57l6\n",
       "AN81xlg94dScc/UEvmSH8/jz40zCHbkBAgByBBAAkCOAAIAcAQQA5AggACBHAAEAOQIIAMgRQABA\n",
       "jgACAHIEEACQI4AAgBwBBADkCCAAIEcAAQA5AggAyBFAAECOAAIAcgQQAJAjgACAHAEEAOQIIAAg\n",
       "RwABADkCCADIEUAAQI4AAgByBBAAkPNcPeBTc87VE06NMVZPgK3s8F3vwrO8xg7/8R3e9Q7P0Q0Q\n",
       "AJAjgACAHAEEAOQIIAAgRwABADkCCADIEUAAQI4AAgByBBAAkCOAAIAcAQQA5AggACBHAAEAOQII\n",
       "AMgRQABAjgACAHIEEACQI4AAgBwBBADkCCAAIEcAAQA5AggAyBFAAECOAAIAcgQQAJAjgACAnOcY\n",
       "Y/WG25hzrp5waof3vcNGWpxJuB83QABAjgACAHIEEACQI4AAgBwBBADkCCAAIEcAAQA5AggAyBFA\n",
       "AECOAAIAcgQQAJAjgACAHAEEAOQIIAAgRwABADkCCADIEUAAQI4AAgByBBAAkCOAAIAcAQQA5Agg\n",
       "ACBHAAEAOQIIAMgRQABAjgACAHKeqwfA/805V0/gS8YYqyd8ZIczucOz3OE57mCHd70DN0AAQI4A\n",
       "AgByBBAAkCOAAIAcAQQA5AggACBHAAEAOQIIAMgRQABAjgACAHIEEACQI4AAgBwBBADkCCAAIEcA\n",
       "AQA5AggAyBFAAECOAAIAcgQQAJAjgACAHAEEAOQIIAAgRwABADkCCADIEUAAQI4AAgByHsdxvFeP\n",
       "+MQYY/WEU3PO1RNO7fAcd7DDu6bFt81vssM/0g0QAJAjgACAHAEEAOQIIAAgRwABADkCCADIEUAA\n",
       "QI4AAgByBBAAkCOAAIAcAQQA5AggACBHAAEAOQIIAMgRQABAjgACAHIEEACQI4AAgBwBBADkCCAA\n",
       "IEcAAQA5AggAyBFAAECOAAIAcgQQAJAjgACAnMfr9XqvHgE0zTlXT7iNMcbqCae872t419dwAwQA\n",
       "5AggACBHAAEAOQIIAMgRQABAjgACAHIEEACQI4AAgBwBBADkCCAAIEcAAQA5AggAyBFAAECOAAIA\n",
       "cgQQAJAjgACAHAEEAOQIIAAgRwABADkCCADIEUAAQI4AAgByBBAAkCOAAIAcAQQA5DyO43ivHvGJ\n",
       "McbqCbcw51w9Af7hu76Ob/saO5zJHd71Ds/RDRAAkCOAAIAcAQQA5AggACBHAAEAOQIIAMgRQABA\n",
       "jgACAHIEEACQI4AAgBwBBADkCCAAIEcAAQA5AggAyBFAAECOAAIAcgQQAJAjgACAHAEEAOQIIAAg\n",
       "RwABADkCCADIEUAAQI4AAgByBBAAkCOAAICc5+oBfNcYY/WEU3PO1RNO7fAcgT/n/9PhBggAyBFA\n",
       "AECOAAIAcgQQAJAjgACAHAEEAOQIIAAgRwABADkCCADIEUAAQI4AAgByBBAAkCOAAIAcAQQA5Agg\n",
       "ACBHAAEAOQIIAMgRQABAjgACAHIEEACQI4AAgBwBBADkCCAAIEcAAQA5AggAyBFAAEDO4/V6vVeP\n",
       "+MScc/UE2MoYY/WEU7t81zs8S66xy5n87Xb4ZtwAAQA5AggAyBFAAECOAAIAcgQQAJAjgACAHAEE\n",
       "AOQIIAAgRwABADkCCADIEUAAQI4AAgByBBAAkCOAAIAcAQQA5AggACBHAAEAOQIIAMgRQABAjgAC\n",
       "AHIEEACQI4AAgBwBBADkCCAAIEcAAQA5AggAyHmuHsB3jTFWT7iFOefqCad22EiLM8lv4gYIAMgR\n",
       "QABAjgACAHIEEACQI4AAgBwBBADkCCAAIEcAAQA5AggAyBFAAECOAAIAcgQQAJAjgACAHAEEAOQI\n",
       "IAAgRwABADkCCADIEUAAQI4AAgByBBAAkCOAAIAcAQQA5AggACBHAAEAOQIIAMgRQABAzuM4jvfq\n",
       "EZ8YY6yeAFuZc66ecGqX73qHZ7mDXd43DW6AAIAcAQQA5AggACBHAAEAOQIIAMgRQABAjgACAHIE\n",
       "EACQI4AAgBwBBADkCCAAIEcAAQA5AggAyBFAAECOAAIAcgQQAJAjgACAHAEEAOQIIAAgRwABADkC\n",
       "CADIEUAAQI4AAgByBBAAkCOAAIAcAQQA5DxXD7iTOefqCafGGKsn3IJ33eJZwv24AQIAcgQQAJAj\n",
       "gACAHAEEAOQIIAAgRwABADkCCADIEUAAQI4AAgByBBAAkCOAAIAcAQQA5AggACBHAAEAOQIIAMgR\n",
       "QABAjgACAHIEEACQI4AAgBwBBADkCCAAIEcAAQA5AggAyBFAAECOAAIAcgQQAJDzeL1e79Uj4N/m\n",
       "nKsnwH+MMVZP4Ev8f66xwzfjBggAyBFAAECOAAIAcgQQAJAjgACAHAEEAOQIIAAgRwABADkCCADI\n",
       "EUAAQI4AAgByBBAAkCOAAIAcAQQA5AggACBHAAEAOQIIAMgRQABAjgACAHIEEACQI4AAgBwBBADk\n",
       "CCAAIEcAAQA5AggAyPkbKheCsW2rscsAAAAASUVORK5CYII=\n",
       "\" transform=\"translate(12, 12)\"/>\n",
       "</g>\n",
       "</svg>\n"
      ]
     },
     "metadata": {},
     "output_type": "display_data"
    }
   ],
   "source": [
    "using FLOYao\n",
    "using Random\n",
    "using Distributions\n",
    "\n",
    "#Not sure if there is a better pprior that we can choose, sometimes u get a lot of white or black bc variance is high (resolution: change var from sigma to sigma/10)\n",
    "mu = mean(trainstats)\n",
    "sigma = std(trainstats)\n",
    "println(\"μ: $mu\")\n",
    "println(\"σ: $sigma\")\n",
    "#dist = Normal(mu, sigma/20)\n",
    "dist = Normal(mu, 1)\n",
    "\n",
    "ratio = rand(dist) / N\n",
    "function pprior() #For each square, probability 1/ratio that it's white, where ratio ~ N(mean(data), std(data)) /  N; maybe we can vary pprior later?\n",
    "    a = rand(N) .< ratio\n",
    "    return FLOYao.product_state(Int.(a)) #Returns MajoranaReg; Prepares it to be sent through the generator \n",
    "end\n",
    "\n",
    "pprior_example = rand(N) .< ratio\n",
    "heatmap(rotl90(reshape(pprior_example, compress_size, compress_size)) .> 0.5, color=:grays, colorbar = false, ticks = false)"
   ]
  },
  {
   "cell_type": "code",
   "execution_count": 5,
   "metadata": {},
   "outputs": [
    {
     "name": "stdout",
     "output_type": "stream",
     "text": [
      "START\n"
     ]
    },
    {
     "name": "stdout",
     "output_type": "stream",
     "text": [
      "runcircuit: 0.3972045\n"
     ]
    },
    {
     "name": "stdout",
     "output_type": "stream",
     "text": [
      " 57.027934 seconds (58.36 M allocations: 31.953 GiB, 10.94% gc time, 0.26% compilation time)\n"
     ]
    },
    {
     "data": {
      "text/plain": [
       "1955-element Vector{Float64}:\n",
       "  301.73856019973755\n",
       "  -67.90769100189209\n",
       "   11.342465877532959\n",
       "   82.7208161354065\n",
       "  -82.05372095108032\n",
       "  -13.711154460906982\n",
       " -126.47849321365356\n",
       "  172.66887426376343\n",
       "    4.532217979431152\n",
       "  -29.028475284576416\n",
       "    ⋮\n",
       "  113.83813619613647\n",
       "  367.76143312454224\n",
       " -266.8091654777527\n",
       "  137.28666305541992\n",
       "   65.92881679534912\n",
       "  108.23994874954224\n",
       "  413.6926531791687\n",
       "  -35.95900535583496\n",
       "  502.12961435317993"
      ]
     },
     "metadata": {},
     "output_type": "display_data"
    }
   ],
   "source": [
    "using Flux: train!\n",
    "\n",
    "batch_size = train #Are you supposed to randomly pick batch_size data points at random each time if train is big? idk\n",
    "\n",
    "println(\"START\")\n",
    "\n",
    "#g takes as input x = Int.(pprior()); FLOYao.product_state(x)\n",
    "#d takes as input measure(x |> g)\n",
    "\n",
    "function convertgd(g_output::Vector) #turns the output of reg |> g |> measure into an Int vector\n",
    "    result = []\n",
    "    for i in 1:N \n",
    "        push!(result, g_output[1][end - i + 1])\n",
    "    end\n",
    "    Int.(result)\n",
    "end\n",
    "\n",
    "function run_circuit(z::MajoranaReg) #z is a MajoranaReg drawn from pprior (to guarantee matchgate speedup); this function applies D(G(z))\n",
    "    g_output = z |> g |> measure\n",
    "    d_input = convertgd(g_output)\n",
    "    d_output = d_input |> d\n",
    "    d_output |> first\n",
    "end\n",
    "\n",
    "measurement = run_circuit(pprior())\n",
    "println(\"runcircuit: $measurement\")\n",
    "\n",
    "function run_d(x::BitMatrix) #this function applies D(x), where x is an element of data_train \n",
    "    d_output = x |> vec |> d\n",
    "    d_output |> first\n",
    "end\n",
    "\n",
    "function gLoss(z::MajoranaReg) #z is sampled from pprior()\n",
    "    -log(run_circuit(z))\n",
    "end\n",
    "\n",
    "function dLoss(m, real, fake) \n",
    "    -(log.(m(real)) + log.(1 .- m(fake))) |> first\n",
    "end\n",
    "\n",
    "# Worry about this another day\n",
    "# function gradient(op, reg::MajoranaReg) #does expect' (from FLOYao? or does it come from Yao?) use AD? Also idk what op should be\n",
    "#     _, params_grad = expect'(op, reg => g)\n",
    "# end\n",
    "ε = 0.001\n",
    "function finitediff_grad(z::MajoranaReg, eps = ε) #Returns the approximate gradient of G, using forward finite differences\n",
    "    x = gLoss(z)\n",
    "    temp_params = parameters(g)\n",
    "    grad = zeros(nparameters(g))\n",
    "    temp = 0\n",
    "    for i in 1:nparameters(g)\n",
    "        temp = parameters(g)[i]\n",
    "        temp_params[i] = temp + eps\n",
    "        dispatch!(g, temp_params)\n",
    "        plus = gLoss(z)\n",
    "        grad[i] = (plus - x) / eps\n",
    "        temp_params[i] = temp\n",
    "        dispatch!(g, temp_params)\n",
    "    end\n",
    "    grad\n",
    "end\n",
    "\n",
    "# function finitediff_grad(z::MajoranaReg, eps = ε) #Returns the approximate gradient of G, using central finite differences\n",
    "#     temp_params = parameters(g)\n",
    "#     grad = zeros(nparameters(g))\n",
    "#     temp = plus = minus = 0\n",
    "#     for i in 1:nparameters(g)\n",
    "#         temp = parameters(g)[i]\n",
    "#         temp_params[i] = temp + eps\n",
    "#         dispatch!(g, temp_params)\n",
    "#         plus = gLoss(z)\n",
    "#         temp_params[i] = temp - eps\n",
    "#         dispatch!(g, temp_params)\n",
    "#         minus = gLoss(z)\n",
    "#         grad[i] = (plus - minus) / (2*eps)\n",
    "#         temp_params[i] = temp\n",
    "#         dispatch!(g, temp_params)\n",
    "#     end\n",
    "#     grad\n",
    "# end\n",
    "\n",
    "z = pprior()\n",
    "@time finitediff_grad(z)"
   ]
  },
  {
   "cell_type": "code",
   "execution_count": 6,
   "metadata": {},
   "outputs": [
    {
     "name": "stdout",
     "output_type": "stream",
     "text": [
      "data processing for iteration 1 done\n"
     ]
    },
    {
     "name": "stdout",
     "output_type": "stream",
     "text": [
      "Generator loss: 0.62427545\n",
      "Discriminator loss: 0.9207698\n"
     ]
    },
    {
     "name": "stdout",
     "output_type": "stream",
     "text": [
      "data processing for iteration 2 done\n",
      "Generator loss: 0.8112359\n",
      "Discriminator loss: 0.92325974\n"
     ]
    },
    {
     "name": "stdout",
     "output_type": "stream",
     "text": [
      "data processing for iteration 3 done\n",
      "Generator loss: 1.0005593\n",
      "Discriminator loss: 0.6652155\n"
     ]
    },
    {
     "name": "stdout",
     "output_type": "stream",
     "text": [
      "data processing for iteration 4 done\n",
      "Generator loss: 1.2253401\n",
      "Discriminator loss: 0.9435756\n"
     ]
    }
   ],
   "source": [
    "g_lr = 0.01\n",
    "d_lr = 0.5\n",
    "\n",
    "opt_flag = 1\n",
    "if opt_flag == 1\n",
    "    d_opt = Flux.setup(Adam(), d) \n",
    "elseif opt_flag == 2\n",
    "    d_opt = Flux.setup(Descent(d_lr), d) #lol is this right\n",
    "elseif opt_flag == 3\n",
    "    d_opt = Flux.setup(SGD(), d) #yeah idk anymore\n",
    "end\n",
    "\n",
    "gLoss_values = []\n",
    "dLoss_values = []\n",
    "epochs = 10\n",
    "\n",
    "for i in 1:epochs\n",
    "    real = []\n",
    "    fake = []\n",
    "    grads = []\n",
    "    s = 0\n",
    "    for m in 1:batch_size\n",
    "        x = data_train[m] |> vec #What does vec do\n",
    "        push!(real, Int.(x))\n",
    "        z = pprior()\n",
    "        push!(grads, finitediff_grad(z, ε))\n",
    "        s += gLoss(z)\n",
    "        push!(fake, convertgd(z |> g |> measure))\n",
    "    end\n",
    "    data = collect(zip(real, fake)) \n",
    "    println(\"data processing for iteration $i done\")\n",
    "\n",
    "    dispatch!(-, g, mean(grads)*g_lr) #Rule is - (as specified by first input), this is just gradient descent\n",
    "    # _, gs = Flux.withgradient(m -> dLoss(m, real, fake), d)\n",
    "    Flux.train!(dLoss, d, data, d_opt)\n",
    "\n",
    "    println(\"Generator loss: \", s / batch_size)\n",
    "    push!(gLoss_values, s / batch_size)\n",
    "\n",
    "    s = 0\n",
    "    for x in data\n",
    "        s += dLoss(d, x[1], x[2])        \n",
    "    end\n",
    "    println(\"Discriminator loss: \", s / batch_size)\n",
    "    push!(dLoss_values, s / batch_size)\n",
    "end\n",
    "\n",
    "#plot(gLoss_values)\n",
    "x = 1:epochs\n",
    "plot(x, [dLoss_values, gLoss_values], title=\"Loss Functions\", label=[\"Discriminator Loss\" \"Generator Loss\"], linewidth=3)"
   ]
  },
  {
   "cell_type": "code",
   "execution_count": null,
   "metadata": {},
   "outputs": [],
   "source": [
    "#Testing the Discriminator\n",
    "\n",
    "d_fake = run_circuit(pprior())\n",
    "println(\"fake data: $d_fake\") #Should print a number close to 0\n",
    "\n",
    "index = rand(1:train)\n",
    "d_real = run_d(data_train[index])\n",
    "println(\"real data: $d_real\") #Should print a number close to 1"
   ]
  },
  {
   "cell_type": "code",
   "execution_count": null,
   "metadata": {},
   "outputs": [],
   "source": [
    "#Testing the Generator\n",
    "\n",
    "using Random\n",
    "nsamples = 16\n",
    "samples = []\n",
    "for i in 1:nsamples\n",
    "    reg = pprior()\n",
    "    s = reg |> g |> measure\n",
    "    push!(samples, convertgd(s))\n",
    "end\n",
    "plot([heatmap(rotl90(reshape(s, compress_size, compress_size)), color=:grays, colorbar = false, ticks = false) for s in samples]...) #Not sure if the reshaping is correct but whatever"
   ]
  }
 ],
 "metadata": {
  "kernelspec": {
   "display_name": "Julia 1.9.1",
   "language": "julia",
   "name": "julia-1.9"
  },
  "language_info": {
   "file_extension": ".jl",
   "mimetype": "application/julia",
   "name": "julia",
   "version": "1.9.1"
  },
  "orig_nbformat": 4
 },
 "nbformat": 4,
 "nbformat_minor": 2
}
