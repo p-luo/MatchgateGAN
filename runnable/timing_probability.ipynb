{
 "cells": [
  {
   "cell_type": "code",
   "execution_count": 26,
   "metadata": {},
   "outputs": [
    {
     "name": "stdout",
     "output_type": "stream",
     "text": [
      "number of parameters: 236\n",
      "measured outcome: 1100101001000000100011110111010011011101 ₍₂₎\n",
      "probability of measuring the above outcome: 1.596690509997557337980125680966852750169344964609780273425357559164395674523522e-10\n",
      "the time (μs) taken for 'iteration 2' represents the time needed to compute p_θ(x_i|x_1,...x_{i-1}) and ∇_θ(p_θ(x_i|x_1,...x_{i-1})) for i=2,...,nq\n",
      "iteration 2 : 93188.04740905762\n"
     ]
    }
   ],
   "source": [
    "using BenchmarkTools\n",
    "using Yao, FLOYao\n",
    "using LinearAlgebra\n",
    "\n",
    "N = 30\n",
    "\n",
    "nq = N\n",
    "dim = 2 * nq\n",
    "layers = 2\n",
    "g = chain(nq)\n",
    "for _ in 1:layers\n",
    "    for i in 1:nq-1\n",
    "        push!(g, rot(kron(nq, i => X, i+1 => X), 0.))\n",
    "    end\n",
    "    for i in 1:nq-1\n",
    "        push!(g, rot(kron(nq, i => X, i+1 => Y), 0.))\n",
    "    end\n",
    "    for i in 1:nq\n",
    "        push!(g, put(nq, i => Rz(0.)))\n",
    "    end\n",
    "end\n",
    "\n",
    "⊗ = kron\n",
    "\n",
    "function covariance_matrix(reg::MajoranaReg)\n",
    "    nq = nqubits(reg)\n",
    "    G = I(nq) ⊗ [0 1; -1 0]\n",
    "    return reg.state * G * reg.state'\n",
    "end\n",
    "\n",
    "function helper!(b, temp_m, probabilities) #Evolves all matrices and probabilities and gradients by nq steps, in-place and optimally\n",
    "    nq = N\n",
    "    dim = 2*nq\n",
    "    for i in 2:nq\n",
    "        i1 = 2*(i-1)\n",
    "        ni = b[i-1]\n",
    "        cur_prob = probabilities[i-1]\n",
    "        cur_prefactor = (-1)^ni / (2*cur_prob)\n",
    "        for p in 2*(i-1)+1:dim\n",
    "            for q in p+1:dim\n",
    "                temp_m[p,q] -= cur_prefactor * (temp_m[i1-1,p] * temp_m[i1,q])\n",
    "                temp_m[p,q] += cur_prefactor * (temp_m[i1-1,q] * temp_m[i1,p])\n",
    "            end\n",
    "        end\n",
    "        ni = b[i]\n",
    "        probabilities[i] = (1+(-1)^ni * temp_m[i1+1, i1+2]) / 2\n",
    "    end\n",
    "end\n",
    "\n",
    "function update_opt!(reg::MajoranaReg, theta, b, temp_m, probabilities) \n",
    "    nq = nqubits(reg)\n",
    "    nparams = nparameters(g)\n",
    "    dim = 2*nq\n",
    "    t_tot = 0\n",
    "    for i in 1:2\n",
    "        if i > 1\n",
    "            t = time()\n",
    "            helper!(b, temp_m, probabilities)\n",
    "            diff = (time() - t) * 10^6\n",
    "            println(\"iteration $i : $diff\")\n",
    "        else\n",
    "            i1 = 0\n",
    "            dispatch!(g, theta)\n",
    "            z = reg |> g\n",
    "            temp_m = covariance_matrix(z)\n",
    "            ni = b[i]\n",
    "            probabilities[i] = (1+(-1)^ni * temp_m[i1+1, i1+2]) / 2\n",
    "        end\n",
    "    end\n",
    "end\n",
    "\n",
    "#Setting g to have random parameters, then doing a measurement. The result is stored in 'bitstr'\n",
    "p = rand(nparameters(g)).*2π\n",
    "dispatch!(g, p)\n",
    "println(\"number of parameters: \", nparameters(g))\n",
    "reg = FLOYao.zero_state(nq) |> g\n",
    "results = measure(reg, nshots = 1)\n",
    "bitstr = results[1]\n",
    "println(\"measured outcome: $bitstr\")\n",
    "println(\"probability of measuring the above outcome: \", FLOYao.bitstring_probability(reg, bitstr))\n",
    "\n",
    "#Initializing temporary matrix and vector, used in the algorithm\n",
    "temp_m = Matrix{Float64}(undef, dim, dim)\n",
    "probabilities = Vector{Float64}(undef, nq)\n",
    "\n",
    "println(\"the time (μs) taken for 'iteration 2' represents the time needed to compute p_θ(x_i|x_1,...x_{i-1}) and ∇_θ(p_θ(x_i|x_1,...x_{i-1})) for i=2,...,nq\")\n",
    "update_opt!(FLOYao.zero_state(N), p, bitstr, temp_m, probabilities)"
   ]
  },
  {
   "cell_type": "code",
   "execution_count": 27,
   "metadata": {},
   "outputs": [
    {
     "name": "stdout",
     "output_type": "stream",
     "text": [
      "iteration 2 : 76686.85913085938\n"
     ]
    }
   ],
   "source": [
    "temp_m = Matrix{Float64}(undef, dim, dim)\n",
    "probabilities = Vector{Float64}(undef, nq)\n",
    "update_opt!(FLOYao.zero_state(N), p, bitstr, temp_m, probabilities)"
   ]
  },
  {
   "cell_type": "code",
   "execution_count": 28,
   "metadata": {},
   "outputs": [
    {
     "name": "stdout",
     "output_type": "stream",
     "text": [
      "iteration 2 : 67372.79891967773\n"
     ]
    }
   ],
   "source": [
    "temp_m = Matrix{Float64}(undef, dim, dim)\n",
    "probabilities = Vector{Float64}(undef, nq)\n",
    "update_opt!(FLOYao.zero_state(N), p, bitstr, temp_m, probabilities)"
   ]
  },
  {
   "cell_type": "code",
   "execution_count": 29,
   "metadata": {},
   "outputs": [
    {
     "name": "stdout",
     "output_type": "stream",
     "text": [
      "iteration 2 : 70769.07157897949\n",
      "Running update_opt! repeatedly seems to show that the first time is very slow but subsequent times are much faster.\n"
     ]
    }
   ],
   "source": [
    "temp_m = Matrix{Float64}(undef, dim, dim)\n",
    "probabilities = Vector{Float64}(undef, nq)\n",
    "update_opt!(FLOYao.zero_state(N), p, bitstr, temp_m, probabilities)\n",
    "println(\"Running update_opt! repeatedly seems to show that the first time is very slow but subsequent times are much faster.\")"
   ]
  },
  {
   "cell_type": "code",
   "execution_count": 30,
   "metadata": {},
   "outputs": [
    {
     "data": {
      "text/plain": [
       "BenchmarkTools.Trial: 125 samples with 1 evaluation.\n",
       " Range \u001b[90m(\u001b[39m\u001b[36m\u001b[1mmin\u001b[22m\u001b[39m … \u001b[35mmax\u001b[39m\u001b[90m):  \u001b[39m\u001b[36m\u001b[1m37.087 ms\u001b[22m\u001b[39m … \u001b[35m57.663 ms\u001b[39m  \u001b[90m┊\u001b[39m GC \u001b[90m(\u001b[39mmin … max\u001b[90m): \u001b[39m0.00% … 6.44%\n",
       " Time  \u001b[90m(\u001b[39m\u001b[34m\u001b[1mmedian\u001b[22m\u001b[39m\u001b[90m):     \u001b[39m\u001b[34m\u001b[1m39.872 ms              \u001b[22m\u001b[39m\u001b[90m┊\u001b[39m GC \u001b[90m(\u001b[39mmedian\u001b[90m):    \u001b[39m5.58%\n",
       " Time  \u001b[90m(\u001b[39m\u001b[32m\u001b[1mmean\u001b[22m\u001b[39m ± \u001b[32mσ\u001b[39m\u001b[90m):   \u001b[39m\u001b[32m\u001b[1m40.293 ms\u001b[22m\u001b[39m ± \u001b[32m 2.952 ms\u001b[39m  \u001b[90m┊\u001b[39m GC \u001b[90m(\u001b[39mmean ± σ\u001b[90m):  \u001b[39m3.16% ± 3.06%\n",
       "\n",
       "  \u001b[39m \u001b[39m█\u001b[39m▃\u001b[39m \u001b[39m▁\u001b[39m \u001b[39m \u001b[39m \u001b[39m▃\u001b[39m \u001b[39m▄\u001b[34m \u001b[39m\u001b[32m \u001b[39m\u001b[39m \u001b[39m▄\u001b[39m \u001b[39m \u001b[39m▂\u001b[39m \u001b[39m \u001b[39m \u001b[39m \u001b[39m \u001b[39m \u001b[39m \u001b[39m \u001b[39m \u001b[39m \u001b[39m \u001b[39m \u001b[39m \u001b[39m \u001b[39m \u001b[39m \u001b[39m \u001b[39m \u001b[39m \u001b[39m \u001b[39m \u001b[39m \u001b[39m \u001b[39m \u001b[39m \u001b[39m \u001b[39m \u001b[39m \u001b[39m \u001b[39m \u001b[39m \u001b[39m \u001b[39m \u001b[39m \u001b[39m \u001b[39m \u001b[39m \u001b[39m \u001b[39m \u001b[39m \u001b[39m \u001b[39m \u001b[39m \n",
       "  \u001b[39m▆\u001b[39m█\u001b[39m█\u001b[39m▇\u001b[39m█\u001b[39m█\u001b[39m▆\u001b[39m█\u001b[39m█\u001b[39m█\u001b[39m█\u001b[34m█\u001b[39m\u001b[32m█\u001b[39m\u001b[39m▁\u001b[39m█\u001b[39m▇\u001b[39m█\u001b[39m█\u001b[39m▄\u001b[39m▃\u001b[39m▇\u001b[39m▆\u001b[39m▄\u001b[39m▃\u001b[39m▃\u001b[39m▁\u001b[39m▁\u001b[39m▁\u001b[39m▃\u001b[39m▁\u001b[39m▄\u001b[39m▁\u001b[39m▁\u001b[39m▁\u001b[39m▁\u001b[39m▁\u001b[39m▁\u001b[39m▁\u001b[39m▃\u001b[39m▁\u001b[39m▁\u001b[39m▁\u001b[39m▁\u001b[39m▁\u001b[39m▁\u001b[39m▁\u001b[39m▃\u001b[39m▃\u001b[39m▁\u001b[39m▁\u001b[39m▁\u001b[39m▁\u001b[39m▁\u001b[39m▁\u001b[39m▁\u001b[39m▁\u001b[39m▁\u001b[39m▁\u001b[39m▃\u001b[39m \u001b[39m▃\n",
       "  37.1 ms\u001b[90m         Histogram: frequency by time\u001b[39m        52.3 ms \u001b[0m\u001b[1m<\u001b[22m\n",
       "\n",
       " Memory estimate\u001b[90m: \u001b[39m\u001b[33m22.28 MiB\u001b[39m, allocs estimate\u001b[90m: \u001b[39m\u001b[33m689897\u001b[39m."
      ]
     },
     "metadata": {},
     "output_type": "display_data"
    }
   ],
   "source": [
    "temp_m = Matrix{Float64}(undef, dim, dim)\n",
    "prob = Vector{Float64}(undef, N) \n",
    "prob[1] = rand() #Randomly assign a number to p(x_1). A vector with nothing except a float in the first entry is what gets passed into the helper! function, in the update_opt! function.\n",
    "@benchmark helper!(bitstr, temp_m, prob)"
   ]
  }
 ],
 "metadata": {
  "kernelspec": {
   "display_name": "Julia 1.9.1",
   "language": "julia",
   "name": "julia-1.9"
  },
  "language_info": {
   "file_extension": ".jl",
   "mimetype": "application/julia",
   "name": "julia",
   "version": "1.9.1"
  }
 },
 "nbformat": 4,
 "nbformat_minor": 2
}
