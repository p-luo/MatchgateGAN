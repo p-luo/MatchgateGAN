{
 "cells": [
  {
   "cell_type": "code",
   "execution_count": 1,
   "metadata": {},
   "outputs": [
    {
     "data": {
      "text/plain": [
       "2"
      ]
     },
     "metadata": {},
     "output_type": "display_data"
    }
   ],
   "source": [
    "a = 2\n",
    "a"
   ]
  },
  {
   "cell_type": "code",
   "execution_count": null,
   "metadata": {},
   "outputs": [],
   "source": [
    "A = [1.0 2.0; 3.0 4.0]\n",
    "eachcol(A)"
   ]
  },
  {
   "cell_type": "code",
   "execution_count": null,
   "metadata": {},
   "outputs": [],
   "source": [
    "using Yao.BitBasis\n",
    "using Flux\n",
    "\n",
    "d = Chain(Dense(nq, 10, relu), Dense(10, 1, sigmoid))\n",
    "nparams = sum(length, Flux.params(d))\n",
    "println(\"Number of parameters in critic: $nparams\")\n",
    "batchsize = 5\n",
    "function postprocess(g_output::Vector) #turns output of measure  into an Int vector\n",
    "    result = []\n",
    "    for i in 1:N\n",
    "        push!(result, g_output[1][end - i + 1])\n",
    "    end\n",
    "    Int.(result)\n",
    "end\n",
    "\n",
    "function d_postprocess(measurement::Vector, nbatch = batchsize)\n",
    "    aa = breflect.(measurement)\n",
    "    ret = Matrix(undef, nq, nbatch)\n",
    "    for i in 1:nbatch\n",
    "        ret[:,i] = [aa[i]...]\n",
    "    end\n",
    "    return ret\n",
    "end\n",
    "result = measure(reg, nshots = batchsize)\n",
    "d(d_postprocess(result))\n",
    "\n",
    "function reinforce_grad_loss(theta, nbatch)\n",
    "    dispatch!(g, theta)\n",
    "    T = Float64\n",
    "    sampled = Dict{BitStr{nq, BigInt}, Vector{T}}()\n",
    "    measurements = measure(reg, nshots = nbatch)\n",
    "    discriminator_output = log.(d(d_postprocess(measurements, nbatch)))\n",
    "    #Initializing temporary matrices and vectors for the optimized version of the algorithm. Note: Do NOT need to reset these temporary matrices at the end of each iteration of the for loop.\n",
    "    temp_m = Matrix{T}(undef, dim, dim)\n",
    "    temp_grad_m = Array{T}(undef, nparams, dim, dim)\n",
    "    probabilities = Vector{T}(undef, nq)\n",
    "    grad_probabilities = Matrix{T}(undef, nparams, nq)\n",
    "    grad_p = Matrix{T}(undef, nparams, nbatch)\n",
    "\n",
    "    for i in 1:nbatch\n",
    "        cur_bitstr = measurements[i]\n",
    "        if haskey(sampled, cur_bitstr)\n",
    "            # println(\"SAMPLED AGAIN\")\n",
    "            grad_p[:,i] = sampled[cur_bitstr]\n",
    "        else\n",
    "            log_grad = log_grad_opt(FLOYao.zero_state(nq), theta, cur_bitstr, temp_m, temp_grad_m, probabilities, grad_probabilities)\n",
    "            grad_p[:,i] = log_grad\n",
    "            sampled[cur_bitstr] = log_grad\n",
    "        end\n",
    "    end\n",
    "    return vec(mean(discriminator_output.*grad_p, dims = 2))\n",
    "end\n",
    "reinforce_grad_loss(p, 10)"
   ]
  }
 ],
 "metadata": {
  "kernelspec": {
   "display_name": "Julia 1.11.1",
   "language": "julia",
   "name": "julia-1.11"
  },
  "language_info": {
   "file_extension": ".jl",
   "mimetype": "application/julia",
   "name": "julia",
   "version": "1.11.1"
  }
 },
 "nbformat": 4,
 "nbformat_minor": 2
}
