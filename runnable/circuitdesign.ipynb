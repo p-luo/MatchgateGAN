{
 "cells": [
  {
   "cell_type": "code",
   "execution_count": null,
   "metadata": {},
   "outputs": [],
   "source": [
    "from qiskit import QuantumCircuit\n",
    "import random\n",
    "import math\n",
    "from qiskit.circuit import Parameter\n",
    "from qiskit.circuit import Gate\n",
    "\n",
    "def f(x):\n",
    "    return x - 1 if (x % 2 == 1) else x\n",
    "\n",
    "def g(x): \n",
    "    return x if (x % 2 == 1) else x - 1\n",
    "\n",
    "# Build a quantum circuit\n",
    "n = 9\n",
    "layers = 2\n",
    "qc = QuantumCircuit(n)\n",
    "num = 0\n",
    "theta = Parameter('θ')\n",
    "for _ in range(layers):\n",
    "    for i in range(0, f(n), 2):\n",
    "        qc.rxx(Parameter('θ[' + str(num) + ']'), i, i+1)\n",
    "        num += 1\n",
    "    for i in range(1, g(n), 2):\n",
    "        qc.append(Gate(name=r'$\\mathrm{R_{XY}}$', num_qubits=2, params=[Parameter('θ[' + str(num) + ']')]), [i, i+1])\n",
    "        num += 1 \n",
    "    for i in range(0, f(n), 2):\n",
    "        qc.ryy(Parameter('θ[' + str(num) + ']'), i, i+1)\n",
    "        num += 1\n",
    "    for i in range(1, g(n), 2):\n",
    "        qc.append(Gate(name=r'$\\mathrm{R_{YX}}$', num_qubits=2, params=[Parameter('θ[' + str(num) + ']')]), [i, i+1])\n",
    "        num += 1\n",
    "    qc.barrier(range(n))\n",
    "    for i in range(n):\n",
    "        qc.rz(Parameter('θ[' + str(num) + ']'), i)\n",
    "        num += 1\n",
    "    qc.barrier(range(n))\n",
    "    \n",
    "# Matplotlib drawing\n",
    "qc.draw(output='mpl', plot_barriers = False)\n"
   ]
  }
 ],
 "metadata": {
  "kernelspec": {
   "display_name": "quantum",
   "language": "python",
   "name": "python3"
  },
  "language_info": {
   "name": "python",
   "version": "3.9.20"
  }
 },
 "nbformat": 4,
 "nbformat_minor": 2
}
