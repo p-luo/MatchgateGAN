{
 "cells": [
  {
   "cell_type": "code",
   "execution_count": 11,
   "metadata": {},
   "outputs": [
    {
     "name": "stdout",
     "output_type": "stream",
     "text": [
      "18"
     ]
    }
   ],
   "source": [
    "using Yao\n",
    "\n",
    "N = 5\n",
    "layers = 2\n",
    "\n",
    "g = chain(N)\n",
    "for _ in 1:layers\n",
    "    for i in 1:N-1\n",
    "        push!(g, rot(kron(N, i => X, i+1 => X), 0.))\n",
    "    end\n",
    "    for i in 1:N\n",
    "        push!(g, put(N, i => Rz(0.)))\n",
    "    end\n",
    "end\n",
    "\n",
    "print(nparameters(g))\n",
    "dispatch!(g, :random); #Parameters seem to be normalized between 0 and 1..."
   ]
  },
  {
   "cell_type": "code",
   "execution_count": null,
   "metadata": {},
   "outputs": [],
   "source": [
    "function f()\n",
    "    \n",
    "end\n",
    "\n",
    "function paramshift_f()\n",
    "    \n",
    "end"
   ]
  }
 ],
 "metadata": {
  "kernelspec": {
   "display_name": "Julia 1.9.1",
   "language": "julia",
   "name": "julia-1.9"
  },
  "language_info": {
   "file_extension": ".jl",
   "mimetype": "application/julia",
   "name": "julia",
   "version": "1.9.1"
  },
  "orig_nbformat": 4
 },
 "nbformat": 4,
 "nbformat_minor": 2
}
